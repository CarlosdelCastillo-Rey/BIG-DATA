{
 "cells": [
  {
   "cell_type": "markdown",
   "id": "b065c4cf5870c253",
   "metadata": {},
   "source": [
    "# Particionamiento del Dataset: Million Playlist Dataset (MPD)\n",
    "\n",
    "## Descripción del Dataset (D)\n",
    "\n",
    "La base de datos utilizada en este proyecto es el **Million Playlist Dataset**, desarrollado por Spotify para el RecSys Challenge 2018. Contiene un millón de playlists públicas creadas por usuarios en Estados Unidos entre 2010 y 2017. Cada playlist incluye metadatos como su título, cantidad de canciones, duración total, número de artistas únicos, número de álbumes, número de ediciones, si es colaborativa o no, y un arreglo con todas las canciones que contiene. El objetivo es analizar comportamientos musicales y patrones de curaduría de los usuarios.\n",
    "\n",
    "\n",
    "---\n",
    "\n",
    "## Reglas de Particionamiento\n",
    "\n",
    "Para dividir el dataset original `D` en subconjuntos significativos, se utilizaron dos variables de caracterización:\n",
    "\n",
    "- `playlist.collaborative` → indica si la playlist fue construida de manera colaborativa (True) o no (False).\n",
    "- `playlist.num_tracks` → número de canciones en la playlist, agrupado en tres categorías:\n",
    "    - **Corta**: 5–30 canciones\n",
    "    - **Media**: 31–100 canciones\n",
    "    - **Larga**: más de 100 canciones\n",
    "\n",
    "Esto generó **6 combinaciones posibles**, que se detallan a continuación:\n",
    "\n",
    "1. `No colaborativa` + `Corta`\n",
    "2. `No colaborativa` + `Media`\n",
    "3. `No colaborativa` + `Larga`\n",
    "4. `Colaborativa` + `Corta`\n",
    "5. `Colaborativa` + `Media`\n",
    "6. `Colaborativa` + `Larga`\n",
    "\n",
    "Cada combinación representa una **regla de particionamiento**, y será usada para extraer subconjuntos de datos.\n",
    "\n",
    "---"
   ]
  },
  {
   "cell_type": "markdown",
   "id": "a4408252",
   "metadata": {},
   "source": [
    "## Marco teorico"
   ]
  },
  {
   "cell_type": "markdown",
   "id": "bc2b7932",
   "metadata": {},
   "source": [
    "El aprendizaje automático  se clasifica principalmente en dos grandes categorías: aprendizaje supervisado y aprendizaje no supervisado. Ambos estan enfocados en que las  máquinas aprendan a partir de datos, pero con diferentes objetivos y metodologías.\n",
    "\n",
    "---------Aprendizaje Supervisado-----------\n",
    "El modelo se entrena con un conjunto de datos etiquetado, es decir, cada entrada está asociada a una salida o clase conocida. El objetivo es que el modelo aprenda a predecir o clasificar correctamente nuevas entradas con base a la entrada, es decir ya se conocen los datos.\n",
    "\n",
    "Algoritmos representativos:\n",
    "\n",
    "Regresión lineal: para predecir valores continuos.\n",
    "\n",
    "Regresión logística: para clasificación binaria o multiclase.\n",
    "\n",
    "Árboles de decisión: estructura jerárquica que divide el espacio de decisión.\n",
    "\n",
    "Random Forest: conjunto de árboles que mejora la generalización.\n",
    "\n",
    "Máquinas de vectores de soporte : encuentra el hiperplano óptimo para separar clases.\n",
    "\n",
    "Redes neuronales: modelos complejos inspirados en el cerebro humano.\n",
    "\n",
    "En PySpark , los algoritmos supervisados disponibles son:\n",
    "\n",
    "    1-LinearRegression\n",
    "\n",
    "    2-LogisticRegression\n",
    "\n",
    "    3-DecisionTreeClassifier\n",
    "\n",
    "    4-RandomForestClassifier\n",
    "\n",
    "    5-GBTClassifier (Gradient-Boosted Trees)\n",
    "\n",
    "    6-MultilayerPerceptronClassifier\n",
    "\n",
    "---------Aprendizaje No Supervisado---------\n",
    "El aprendizaje no supervisado trabaja con datos no etiquetados. El objetivo es descubrir estructuras o patrones ocultos en los datos, como agrupamientos o relaciones, al contrario del supervisado no se conocen los datos. Su relacion entre ellos\n",
    "\n",
    "Algoritmos representativos:\n",
    "\n",
    "K-Means: agrupa los datos en k grupos basados en su similitud.\n",
    "\n",
    "Clustering jerárquico: construye un árbol de grupos.\n",
    "\n",
    "Análisis de componentes principales (PCA): reducción de dimensiones.\n",
    "\n",
    "DBSCAN: agrupamiento basado en densidad, tolerante al ruido.\n",
    "\n",
    "En PySpark, los algoritmos no supervisados disponibles son:\n",
    "\n",
    "    1-KMeans\n",
    "\n",
    "    2-BisectingKMeans\n",
    "\n",
    "    3-GaussianMixture\n",
    "\n",
    "    4-PCA (para reducción de dimensiones)"
   ]
  },
  {
   "cell_type": "markdown",
   "id": "48e2088746c9fda8",
   "metadata": {},
   "source": [
    "## Carga de Datos (PySpark)"
   ]
  },
  {
   "cell_type": "code",
   "execution_count": 4,
   "id": "6d7350e5",
   "metadata": {},
   "outputs": [],
   "source": [
    "from pyspark.sql import SparkSession\n",
    "from pyspark.sql.functions import col, when, explode\n",
    "from pyspark.ml.evaluation import ClusteringEvaluator, MulticlassClassificationEvaluator, BinaryClassificationEvaluator\n",
    "from pyspark.ml.classification import RandomForestClassifier\n",
    "from pyspark.ml.tuning import ParamGridBuilder, CrossValidator\n",
    "import matplotlib.pyplot as plt\n",
    "import os\n",
    "import findspark\n",
    "import glob\n",
    "from functools import reduce\n",
    "from pyspark.ml.feature import StringIndexer\n",
    "from pyspark.sql import SparkSession\n",
    "from pyspark.ml.feature import VectorAssembler\n",
    "from pyspark.mllib.evaluation import MulticlassMetrics\n",
    "from pyspark.ml.evaluation import BinaryClassificationEvaluator\n",
    "\n"
   ]
  },
  {
   "cell_type": "code",
   "execution_count": 5,
   "id": "df730efa",
   "metadata": {},
   "outputs": [
    {
     "name": "stdout",
     "output_type": "stream",
     "text": [
      "Iniciando Spark...\n",
      "SparkSession iniciada correctamente.\n",
      "Total de archivos encontrados: 1000\n",
      "Lectura completa.\n"
     ]
    }
   ],
   "source": [
    "# Función para inicializar Spark\n",
    "def iniciar_spark(app_name=\"Spotify\", memory=\"24g\"):\n",
    "    print(\"Iniciando Spark...\")\n",
    "    os.environ[\"SPARK_LOCAL_DIRS\"] = \"C:\\\\Users\\\\52614\\\\AppData\\\\Local\\\\Temp\"\n",
    "    findspark.init()\n",
    "    spark = SparkSession.builder \\\n",
    "        .appName(app_name) \\\n",
    "        .master(\"local[*]\") \\\n",
    "        .config(\"spark.driver.memory\", memory) \\\n",
    "        .getOrCreate()\n",
    "    print(\"SparkSession iniciada correctamente.\")\n",
    "    return spark\n",
    "\n",
    "# Función para leer archivos JSON por lotes\n",
    "def leer_archivos_en_lotes(spark, ruta_base, batch_size=3):\n",
    "    #Busca todos los arhicos json en en path que indique\n",
    "    archivos = sorted(glob.glob(os.path.join(ruta_base, \"*.json\")))\n",
    "    # Dividir los archivos en lotes para leerlos progresivamente , esto se hizo debido a la capicidad de la PC\n",
    "    print(f\"Total de archivos encontrados: {len(archivos)}\")\n",
    "    batches = [archivos[i:i + batch_size] for i in range(0, len(archivos), batch_size)]\n",
    "    \n",
    "    df_raw = None\n",
    "    # Iterar sobre cada lote de archivos\n",
    "    for idx, batch in enumerate(batches):\n",
    "        #print(f\"Leyendo lote {idx + 1}/{len(batches)} con {len(batch)} archivos...\")\n",
    "         # Leer el lote actual de archivos JSON con formato multiline\n",
    "        temp_df = spark.read.option(\"multiline\", \"true\").json(batch)\n",
    "        df_raw = temp_df if df_raw is None else df_raw.unionByName(temp_df)\n",
    "    \n",
    "    print(\"Lectura completa.\")\n",
    "    return df_raw\n",
    "\n",
    "# Ruta donde se encuentran los archivos JSON\n",
    "ruta_base = r\"D:\\Mestria\\Big data\\spotify-million\\versions\\1\\data\"\n",
    "\n",
    "spark = iniciar_spark()\n",
    "df_raw = leer_archivos_en_lotes(spark, ruta_base)\n",
    "\n",
    "# Explode del campo \"playlists\"\n",
    "playlists_df = df_raw.select(explode(\"playlists\").alias(\"playlist\"))\n",
    "\n",
    "# Clasificar tamaño de playlist\n",
    "playlists_cat_df = playlists_df.withColumn(\n",
    "    \"size_category\",\n",
    "    when(col(\"playlist.num_tracks\") <= 30, \"Corta\")\n",
    "    .when((col(\"playlist.num_tracks\") > 30) & (col(\"playlist.num_tracks\") <= 100), \"Media\")\n",
    "    .otherwise(\"Larga\")\n",
    ")\n",
    "#Si se queire revisar , descomentar la parte , imprimirlo no se ve estetico para la entrega\n",
    "#playlists_cat_df.show(5, truncate=False)"
   ]
  },
  {
   "cell_type": "markdown",
   "id": "f22cd3bd0feee1db",
   "metadata": {},
   "source": [
    "## 1 Construcción de la muestra M"
   ]
  },
  {
   "cell_type": "code",
   "execution_count": 6,
   "id": "initial_id",
   "metadata": {
    "ExecuteTime": {
     "end_time": "2025-05-05T02:39:42.547613Z",
     "start_time": "2025-05-05T02:39:38.951977Z"
    },
    "collapsed": true
   },
   "outputs": [
    {
     "name": "stdout",
     "output_type": "stream",
     "text": [
      "+--------------------+-------------+\n",
      "|            playlist|size_category|\n",
      "+--------------------+-------------+\n",
      "|{false, null, 433...|        Corta|\n",
      "|{false, null, 340...|        Corta|\n",
      "|{false, null, 429...|        Corta|\n",
      "+--------------------+-------------+\n",
      "only showing top 3 rows\n",
      "\n",
      "+--------------------+-------------+\n",
      "|            playlist|size_category|\n",
      "+--------------------+-------------+\n",
      "|{false, null, 115...|        Media|\n",
      "|{false, null, 116...|        Media|\n",
      "|{false, null, 140...|        Media|\n",
      "+--------------------+-------------+\n",
      "only showing top 3 rows\n",
      "\n",
      "+--------------------+-------------+\n",
      "|            playlist|size_category|\n",
      "+--------------------+-------------+\n",
      "|{false, null, 289...|        Larga|\n",
      "|{false, null, 356...|        Larga|\n",
      "|{false, null, 258...|        Larga|\n",
      "+--------------------+-------------+\n",
      "only showing top 3 rows\n",
      "\n",
      "+--------------------+-------------+\n",
      "|            playlist|size_category|\n",
      "+--------------------+-------------+\n",
      "|{true, null, 5549...|        Corta|\n",
      "|{true, null, 2443...|        Corta|\n",
      "|{true, null, 4344...|        Corta|\n",
      "+--------------------+-------------+\n",
      "only showing top 3 rows\n",
      "\n",
      "+--------------------+-------------+\n",
      "|            playlist|size_category|\n",
      "+--------------------+-------------+\n",
      "|{true, null, 2690...|        Media|\n",
      "|{true, null, 1571...|        Media|\n",
      "|{true, null, 1232...|        Media|\n",
      "+--------------------+-------------+\n",
      "only showing top 3 rows\n",
      "\n",
      "+--------------------+-------------+\n",
      "|            playlist|size_category|\n",
      "+--------------------+-------------+\n",
      "|{true, null, 2955...|        Larga|\n",
      "|{true, null, 4534...|        Larga|\n",
      "|{true, null, 2467...|        Larga|\n",
      "+--------------------+-------------+\n",
      "only showing top 3 rows\n",
      "\n"
     ]
    }
   ],
   "source": [
    "# 1. No colaborativa + Corta\n",
    "part_1 = playlists_cat_df.filter(\n",
    "    (col(\"playlist.collaborative\") == False) & \n",
    "    (col(\"size_category\") == \"Corta\")\n",
    ")\n",
    "part_1.show(3)\n",
    "\n",
    "# 2. No colaborativa + Media\n",
    "part_2 = playlists_cat_df.filter(\n",
    "    (col(\"playlist.collaborative\") == False) & \n",
    "    (col(\"size_category\") == \"Media\")\n",
    ")\n",
    "part_2.show(3)\n",
    "\n",
    "# 3. No colaborativa + Larga\n",
    "part_3 = playlists_cat_df.filter(\n",
    "    (col(\"playlist.collaborative\") == False) & \n",
    "    (col(\"size_category\") == \"Larga\")\n",
    ")\n",
    "part_3.show(3)\n",
    "\n",
    "# 4.No Colaborativa + Corta\n",
    "part_4 = playlists_cat_df.filter(\n",
    "    (col(\"playlist.collaborative\") == True) & \n",
    "    (col(\"size_category\") == \"Corta\")\n",
    ")\n",
    "part_4.show(3)\n",
    "\n",
    "# 5.Colaborativa + Media\n",
    "part_5 = playlists_cat_df.filter(\n",
    "    (col(\"playlist.collaborative\") == True) & \n",
    "    (col(\"size_category\") == \"Media\")\n",
    ")\n",
    "part_5.show(3)\n",
    "\n",
    "# 6. Colaborativa + Larga\n",
    "part_6 = playlists_cat_df.filter(\n",
    "    (col(\"playlist.collaborative\") == True) & \n",
    "    (col(\"size_category\") == \"Larga\")\n",
    ")\n",
    "part_6.show(3)\n"
   ]
  },
  {
   "cell_type": "markdown",
   "id": "4ed9c64d868aefe6",
   "metadata": {},
   "source": [
    "## Verificación"
   ]
  },
  {
   "cell_type": "code",
   "execution_count": 7,
   "id": "45a0634db8f5a10f",
   "metadata": {
    "ExecuteTime": {
     "end_time": "2025-05-05T02:44:38.550301Z",
     "start_time": "2025-05-05T02:39:51.213643Z"
    }
   },
   "outputs": [
    {
     "name": "stdout",
     "output_type": "stream",
     "text": [
      "Partición 1: 303361\n",
      "Partición 2: 463628\n",
      "Partición 3: 210442\n",
      "Partición 4: 5549\n",
      "Partición 5: 10980\n",
      "Partición 6: 6040\n"
     ]
    }
   ],
   "source": [
    "# Verificar cuántos registros hay en cada partición\n",
    "print(\"Partición 1:\", part_1.count())\n",
    "print(\"Partición 2:\", part_2.count())\n",
    "print(\"Partición 3:\", part_3.count())\n",
    "print(\"Partición 4:\", part_4.count())\n",
    "print(\"Partición 5:\", part_5.count())\n",
    "print(\"Partición 6:\", part_6.count())\n"
   ]
  },
  {
   "cell_type": "markdown",
   "id": "9467b45b4d43b453",
   "metadata": {},
   "source": [
    "###  Tabla de subconjuntos de particionamiento generados\n",
    "\n",
    "| ID de Partición | ¿Es colaborativa? | Tamaño de playlist  | Número de playlists |\n",
    "|------------------|--------------------|----------------------|----------------------|\n",
    "| Partición 1      | No                 | Corta (≤30 tracks)   | 303,361              |\n",
    "| Partición 2      | No                 | Media (31–100)       | 463,628              |\n",
    "| Partición 3      | No                 | Larga (>100)         | 210,442              |\n",
    "| Partición 4      | Sí                 | Corta (≤30 tracks)   | 5,549                |\n",
    "| Partición 5      | Sí                 | Media (31–100)       | 10,980               |\n",
    "| Partición 6      | Sí                 | Larga (>100)         | 6,040                |\n"
   ]
  },
  {
   "cell_type": "markdown",
   "id": "6e6b0e60",
   "metadata": {},
   "source": [
    "## 2 Construcción Train – Test"
   ]
  },
  {
   "cell_type": "code",
   "execution_count": 8,
   "id": "5fe4ef3b",
   "metadata": {},
   "outputs": [],
   "source": [
    "# Muestreo uniforme por partición\n",
    "sample_size = 100\n",
    "particiones = [part_1, part_2, part_3, part_4, part_5, part_6]\n",
    "sampled_parts = [part.limit(sample_size) for part in particiones]\n",
    "\n",
    "# Unión de todas las muestras en un solo DataFrame\n",
    "sample_df = reduce(lambda df1, df2: df1.unionByName(df2), sampled_parts)\n",
    "\n",
    "#  eliminar filas con valores nulos\n",
    "sample_df = sample_df.na.drop()\n",
    "\n",
    "#Si se queire revisar , descomentar la parte , imprimirlo no se ve estetico para la entrega\n",
    "# Verificación\n",
    "#sample_df.show(5, truncate=False)"
   ]
  },
  {
   "cell_type": "markdown",
   "id": "b0e17ba5",
   "metadata": {},
   "source": [
    "## 3 Selección de métricas para medir calidad de resultados"
   ]
  },
  {
   "cell_type": "markdown",
   "id": "b591c797",
   "metadata": {},
   "source": [
    "**Precisión (Accuracy)**\n",
    "\n",
    "Definición: Proporción de predicciones correctas sobre el total de instancias evaluadas.\n",
    "\n",
    "Ventajas: Es sencilla de interpretar y rápida de calcular. Es útil cuando el conjunto de datos tiene clases equilibradas.\n",
    "\n",
    "Aplicación en el proyecto: Se usa como métrica de referencia para evaluar el rendimiento general del modelo. No obstante, si las clases están desbalanceadas, puede ser engañosa y debe complementarse con otras métricas más específicas.\n",
    "\n",
    "**Precisión ponderada (Weighted Precision)**\n",
    "\n",
    "Definición: Promedio ponderado de la precisión por clase, considerando el número de instancias de cada clase.\n",
    "\n",
    "Ventajas: Tiene en cuenta el desbalance de clases, otorgando mayor peso a las clases más frecuentes. Ayuda a evaluar si el modelo evita falsos positivos en proporción a la distribución real del conjunto de datos.\n",
    "\n",
    "Aplicación en el proyecto: Esta métrica permite observar cómo el modelo mantiene la precisión en cada clase, sin dejarse influenciar únicamente por las clases mayoritarias.\n",
    "\n",
    "**Exhaustividad ponderada (Weighted Recall)**\n",
    "\n",
    "Definición: Promedio ponderado del recall (sensibilidad) por clase, tomando en cuenta el número de verdaderos casos por clase.\n",
    "\n",
    "Ventajas: Evalúa qué tan bien el modelo logra cubrir todos los casos positivos reales, especialmente importante cuando es crítico no dejar pasar instancias de una clase.\n",
    "\n",
    "Aplicación en el proyecto: Al usar esta métrica, podemos determinar si el modelo es capaz de recuperar correctamente los casos positivos sin favorecer únicamente las clases más frecuentes.\n",
    "\n",
    "**Puntaje F1 (F1-score)**\n",
    "\n",
    "Definición: Media armónica entre la precisión y el recall. Calcula un equilibrio entre ambos indicadores, penalizando fuertemente si alguno es bajo.\n",
    "\n",
    "Ventajas: Útil en escenarios donde se requiere un balance entre precisión y recall, especialmente en datasets con clases desbalanceadas.\n",
    "\n",
    "Aplicación en el proyecto: Se adopta como métrica principal para evaluar la calidad global del modelo, ya que resume el desempeño tanto en términos de exactitud como de cobertura de las clases. El valor alto de F1 indica que el modelo logra un equilibrio eficaz entre identificar correctamente los positivos y no generar falsos positivos."
   ]
  },
  {
   "cell_type": "markdown",
   "id": "ffc6acef",
   "metadata": {},
   "source": [
    "## 4 Entrenamiento de Modelos de Aprendizaje"
   ]
  },
  {
   "cell_type": "code",
   "execution_count": 9,
   "id": "2ef2b9b9",
   "metadata": {},
   "outputs": [],
   "source": [
    "# Dividir en train/test\n",
    "train_df, test_df = sample_df.randomSplit([0.7, 0.3], seed=42)\n"
   ]
  },
  {
   "cell_type": "code",
   "execution_count": 10,
   "id": "11eb67b6",
   "metadata": {},
   "outputs": [],
   "source": [
    "# Inicializamos el indexador, indicando la columna categórica de entrada y la columna numérica de salida\n",
    "indexer = StringIndexer(inputCol=\"size_category\", outputCol=\"label\")\n",
    "\n",
    "# Ajustamos el indexador \n",
    "indexer_model = indexer.fit(train_df)\n",
    "\n",
    "# Aplicamos la transformación \n",
    "train_df = indexer_model.transform(train_df)\n",
    "test_df = indexer_model.transform(test_df)"
   ]
  },
  {
   "cell_type": "markdown",
   "id": "be15d983",
   "metadata": {},
   "source": [
    "## RandomForestClassifier"
   ]
  },
  {
   "cell_type": "code",
   "execution_count": 11,
   "id": "fe51a769",
   "metadata": {},
   "outputs": [],
   "source": [
    "# Extraer la cantidad de canciones de la columna anidada de playlists\n",
    "train_df = train_df.withColumn(\"num_tracks\", col(\"playlist.num_tracks\"))\n",
    "test_df = test_df.withColumn(\"num_tracks\", col(\"playlist.num_tracks\"))\n",
    "\n",
    "# Convertir columnas numéricas en vector de características\n",
    "assembler = VectorAssembler(inputCols=[\"num_tracks\"], outputCol=\"features\")\n",
    "train_features = assembler.transform(train_df)\n",
    "test_features = assembler.transform(test_df)\n",
    "\n",
    "# Inicializamos el ensamblador \n",
    "assembler = VectorAssembler(inputCols=[\"num_tracks\"], outputCol=\"features\")\n",
    "\n",
    "# Transformamos el conjunto \n",
    "train_features = assembler.transform(train_df)\n",
    "\n",
    "# Transformamos el conjunto \n",
    "test_features = assembler.transform(test_df)\n",
    "\n",
    "# Clasificador\n",
    "rf = RandomForestClassifier(labelCol=\"label\", featuresCol=\"features\")\n",
    "\n",
    "# Grid de hiperparámetros\n",
    "rf_paramGrid = ParamGridBuilder() \\\n",
    "    .addGrid(rf.numTrees, [10, 20]) \\\n",
    "    .addGrid(rf.maxDepth, [3, 5, 10]) \\\n",
    "    .build()\n",
    "\n",
    "# Evaluador\n",
    "evaluator = MulticlassClassificationEvaluator(labelCol=\"label\", metricName=\"accuracy\")\n",
    "\n",
    "# Validación cruzada\n",
    "rf_cv = CrossValidator(estimator=rf,\n",
    "                       estimatorParamMaps=rf_paramGrid,\n",
    "                       evaluator=evaluator,\n",
    "                       numFolds=3)\n",
    "\n",
    "# Entrenar el modelo\n",
    "rf_cv_model = rf_cv.fit(train_features)\n",
    "rf_predictions = rf_cv_model.transform(test_features)\n"
   ]
  },
  {
   "cell_type": "markdown",
   "id": "5ea2bdd3",
   "metadata": {},
   "source": [
    "## 5 Análisis de resultados"
   ]
  },
  {
   "cell_type": "code",
   "execution_count": 12,
   "id": "402d4786",
   "metadata": {},
   "outputs": [
    {
     "name": "stdout",
     "output_type": "stream",
     "text": [
      "F1-score: 0.9524\n",
      "Accuracy: 0.9524\n",
      "Precision: 0.9588\n",
      "Recall: 0.9524\n"
     ]
    }
   ],
   "source": [
    "# F1-score\n",
    "evaluator_f1 = MulticlassClassificationEvaluator(\n",
    "    labelCol=\"label\",\n",
    "    predictionCol=\"prediction\",\n",
    "    metricName=\"f1\"\n",
    ")\n",
    "\n",
    "# Accuracy\n",
    "evaluator_acc = MulticlassClassificationEvaluator(\n",
    "    labelCol=\"label\",\n",
    "    predictionCol=\"prediction\",\n",
    "    metricName=\"accuracy\"\n",
    ")\n",
    "\n",
    "# Precision ponderada\n",
    "evaluator_prec = MulticlassClassificationEvaluator(\n",
    "    labelCol=\"label\",\n",
    "    predictionCol=\"prediction\",\n",
    "    metricName=\"weightedPrecision\"\n",
    ")\n",
    "\n",
    "# Recall ponderada\n",
    "evaluator_rec = MulticlassClassificationEvaluator(\n",
    "    labelCol=\"label\",\n",
    "    predictionCol=\"prediction\",\n",
    "    metricName=\"weightedRecall\"\n",
    ")\n",
    "\n",
    "\n",
    "# Evaluación\n",
    "f1    = evaluator_f1.evaluate(rf_predictions)\n",
    "acc   = evaluator_acc.evaluate(rf_predictions)\n",
    "prec  = evaluator_prec.evaluate(rf_predictions)\n",
    "rec   = evaluator_rec.evaluate(rf_predictions)\n",
    "\n",
    "print(f\"F1-score: {f1:.4f}\")\n",
    "print(f\"Accuracy: {acc:.4f}\")\n",
    "print(f\"Precision: {prec:.4f}\")\n",
    "print(f\"Recall: {rec:.4f}\")\n"
   ]
  },
  {
   "cell_type": "code",
   "execution_count": 14,
   "id": "7ab9843a",
   "metadata": {},
   "outputs": [
    {
     "name": "stdout",
     "output_type": "stream",
     "text": [
      "Confusion Matrix:\n",
      "[[58.  0.  0.]\n",
      " [ 0. 65.  0.]\n",
      " [ 9.  0. 57.]]\n"
     ]
    }
   ],
   "source": [
    "# Preparar (prediction, label) para MulticlassMetrics\n",
    "predictionAndLabels = rf_predictions.select(\"prediction\", \"label\") \\\n",
    "                                     .rdd.map(lambda x: (float(x[0]), float(x[1])))\n",
    "\n",
    "metrics = MulticlassMetrics(predictionAndLabels)\n",
    "\n",
    "# Matriz de confusión\n",
    "conf_matrix = metrics.confusionMatrix().toArray()\n",
    "print(\"Confusion Matrix:\")\n",
    "print(conf_matrix)\n"
   ]
  },
  {
   "cell_type": "code",
   "execution_count": null,
   "id": "f1dd5e38",
   "metadata": {},
   "outputs": [
    {
     "name": "stdout",
     "output_type": "stream",
     "text": [
      "F1-score: 0.952353\n",
      "Accuracy: 0.952381\n",
      "Precision: 0.958778\n",
      "Recall: 0.952381\n"
     ]
    }
   ],
   "source": [
    "#Se imprime de nuevo con mas decimales para verificar\n",
    "\n",
    "print(f\"F1-score: {f1:.6f}\")\n",
    "print(f\"Accuracy: {acc:.6f}\")\n",
    "print(f\"Precision: {prec:.6f}\")\n",
    "print(f\"Recall: {rec:.6f}\")\n"
   ]
  },
  {
   "cell_type": "code",
   "execution_count": 16,
   "id": "435e2b93",
   "metadata": {},
   "outputs": [
    {
     "data": {
      "image/png": "[encoded data removed]",
      "text/plain": [
       "<Figure size 1000x600 with 1 Axes>"
      ]
     },
     "metadata": {},
     "output_type": "display_data"
    }
   ],
   "source": [
    "# Resultados obtenidos\n",
    "modelos = ['F1', 'Accuracy', 'Precision', 'Recall']\n",
    "valores = [f1, acc, prec, rec]\n",
    "colores = ['#1f77b4', '#ff7f0e', '#2ca02c', '#d62728']  \n",
    "\n",
    "# Crear gráfico de barras\n",
    "plt.figure(figsize=(10, 6))\n",
    "bars = plt.bar(modelos, valores, color=colores)\n",
    "\n",
    "# Etiquetas de valor encima de cada barra\n",
    "for bar in bars:\n",
    "    height = bar.get_height()\n",
    "    plt.text(bar.get_x() + bar.get_width() / 2, height + 0.01, f\"{height:.4f}\",\n",
    "             ha='center', va='bottom', fontsize=10)\n",
    "\n",
    "plt.title('Métricas del modelo Random Forest')\n",
    "plt.ylabel('Valor')\n",
    "plt.ylim(0, 1.05)\n",
    "plt.grid(axis='y', linestyle='--', alpha=0.7)\n",
    "plt.tight_layout()\n",
    "plt.show()"
   ]
  },
  {
   "cell_type": "markdown",
   "id": "3ae32320",
   "metadata": {},
   "source": [
    "## Aprendizaje Supervisado:\n",
    "Menor robustez ante variaciones en los datos.\n",
    "\n",
    "     RandomForestClassifier\n",
    "\n",
    "Descripción:\n",
    "\n",
    "\n",
    "Se utilizó un Grid Search con CrossValidator para optimizar hiperparámetros.\n",
    "\n",
    "Resultados:\n",
    "\n",
    "\n",
    "Claramente superó al árbol de decisión individual.\n",
    "\n",
    "Menor cantidad de falsos positivos y falsos negativos.\n",
    "\n",
    "Predicciones más estables ante nuevos datos.\n",
    "\n",
    "Ventajas:\n",
    "\n",
    "Excelente rendimiento en tareas supervisadas con bajo riesgo de sobreajuste.\n",
    "\n",
    "Generaliza mejor que un solo árbol.\n",
    "\n",
    "\n",
    "Desventajas:\n",
    "\n",
    "Requiere más tiempo de entrenamiento y recursos computacionales.\n",
    "\n",
    "No tan fácil de interpretar como un árbol único.\n"
   ]
  },
  {
   "cell_type": "markdown",
   "id": "1d823f96",
   "metadata": {},
   "source": [
    "\n",
    "Con un **F1-score** de 0.9524 y una **Accuracy** igual, el Random Forest tiene **desempeño sobresaliente**. \n",
    "\n",
    "| Métrica       | Valor   | Interpretación del valor                                                                                                                              |\n",
    "|---------------|---------|------------------------------------------------------------------------------------------------------------------------------------------------|\n",
    "| **Accuracy**  | 0.9524  | El 95.24 % de las predicciones son correctas. buen desempeño global, pero puede enmascarar errores en clases minoritarias.                     |\n",
    "| **Precision** | 0.9588  | De todas las predicciones positivas, el 95.88 % son verdaderos positivos. Indica muy pocos falsos positivos.                                   |\n",
    "| **Recall**    | 0.9524  | De todos los casos positivos reales, el 95.24 % fueron detectados. Alta capacidad para no perder instancias positivas.                         |\n",
    "| **F1-score**  | 0.9524  | Media armónica entre precision y recall. Mantiene un equilibrio excelente sin sacrificar sensibilidad ni exactitud.                            |\n",
    "\n",
    "\n",
    "### Fortalezas\n",
    "\n",
    "- **Alta precisión y balance** (Accuracy ≈ F1 ≈ 0.95).  \n",
    "- **Excelente poder discriminativo** (AUC ≈ 0.99).  \n",
    "- **Bajo número de errores** en la matriz de confusión.\n",
    "\n",
    "### Áreas de oportunidad\n",
    "\n",
    "1. **Ajuste de umbral** según el coste relativo de falsos positivos vs. falsos negativos:  \n",
    "   - Si los FN son más críticos,subir el recall.  \n",
    "   - Si los FP son más costosos, subir la precision.\n",
    "\n",
    "2. **Análisis de feature importances** :  \n",
    "   - Reducir dimensionalidad concentrándote en las variables más relevantes.  \n",
    "   - Detectar posibles fugas de información o sesgos.\n",
    "\n",
    "3. **Curvas de aprendizaje**:  \n",
    "   - Trazar F1/accuracy vs. número de árboles y vs. tamaño de muestra para identificar over-/under-fitting y optimizar recursos.\n",
    "\n",
    "4. **Calibración de probabilidades**:  \n",
    "   - Verificar que los scores de probabilidad correspondan a las frecuencias reales (p. ej. con Platt Scaling o Isotonic Regression).\n",
    "\n",
    "---\n",
    "\n"
   ]
  }
 ],
 "metadata": {
  "kernelspec": {
   "display_name": "Python 3",
   "language": "python",
   "name": "python3"
  },
  "language_info": {
   "codemirror_mode": {
    "name": "ipython",
    "version": 3
   },
   "file_extension": ".py",
   "mimetype": "text/x-python",
   "name": "python",
   "nbconvert_exporter": "python",
   "pygments_lexer": "ipython3",
   "version": "3.9.21"
  }
 },
 "nbformat": 4,
 "nbformat_minor": 5
}
