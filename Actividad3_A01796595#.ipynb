{
 "cells": [
  {
   "cell_type": "markdown",
   "id": "b065c4cf5870c253",
   "metadata": {},
   "source": [
    "# Particionamiento del Dataset: Million Playlist Dataset (MPD)\n",
    "\n",
    "## Descripción del Dataset (D)\n",
    "\n",
    "La base de datos utilizada en este proyecto es el **Million Playlist Dataset**, desarrollado por Spotify para el RecSys Challenge 2018. Contiene un millón de playlists públicas creadas por usuarios en Estados Unidos entre 2010 y 2017. Cada playlist incluye metadatos como su título, cantidad de canciones, duración total, número de artistas únicos, número de álbumes, número de ediciones, si es colaborativa o no, y un arreglo con todas las canciones que contiene. El objetivo es analizar comportamientos musicales y patrones de curaduría de los usuarios.\n",
    "\n",
    "\n",
    "---\n",
    "\n",
    "## Reglas de Particionamiento\n",
    "\n",
    "Para dividir el dataset original `D` en subconjuntos significativos, se utilizaron dos variables de caracterización:\n",
    "\n",
    "- `playlist.collaborative` → indica si la playlist fue construida de manera colaborativa (True) o no (False).\n",
    "- `playlist.num_tracks` → número de canciones en la playlist, agrupado en tres categorías:\n",
    "    - **Corta**: 5–30 canciones\n",
    "    - **Media**: 31–100 canciones\n",
    "    - **Larga**: más de 100 canciones\n",
    "\n",
    "Esto generó **6 combinaciones posibles**, que se detallan a continuación:\n",
    "\n",
    "1. `No colaborativa` + `Corta`\n",
    "2. `No colaborativa` + `Media`\n",
    "3. `No colaborativa` + `Larga`\n",
    "4. `Colaborativa` + `Corta`\n",
    "5. `Colaborativa` + `Media`\n",
    "6. `Colaborativa` + `Larga`\n",
    "\n",
    "Cada combinación representa una **regla de particionamiento**, y será usada para extraer subconjuntos de datos.\n",
    "\n",
    "---"
   ]
  },
  {
   "cell_type": "markdown",
   "id": "a4408252",
   "metadata": {},
   "source": [
    "## Marco teorico"
   ]
  },
  {
   "cell_type": "markdown",
   "id": "bc2b7932",
   "metadata": {},
   "source": [
    "El aprendizaje automático  se clasifica principalmente en dos grandes categorías: aprendizaje supervisado y aprendizaje no supervisado. Ambos estan enfocados en que las  máquinas aprendan a partir de datos, pero con diferentes objetivos y metodologías.\n",
    "\n",
    "---------Aprendizaje Supervisado-----------\n",
    "El modelo se entrena con un conjunto de datos etiquetado, es decir, cada entrada está asociada a una salida o clase conocida. El objetivo es que el modelo aprenda a predecir o clasificar correctamente nuevas entradas con base a la entrada, es decir ya se conocen los datos.\n",
    "\n",
    "Algoritmos representativos:\n",
    "\n",
    "Regresión lineal: para predecir valores continuos.\n",
    "\n",
    "Regresión logística: para clasificación binaria o multiclase.\n",
    "\n",
    "Árboles de decisión: estructura jerárquica que divide el espacio de decisión.\n",
    "\n",
    "Random Forest: conjunto de árboles que mejora la generalización.\n",
    "\n",
    "Máquinas de vectores de soporte : encuentra el hiperplano óptimo para separar clases.\n",
    "\n",
    "Redes neuronales: modelos complejos inspirados en el cerebro humano.\n",
    "\n",
    "En PySpark , los algoritmos supervisados disponibles son:\n",
    "\n",
    "    1-LinearRegression\n",
    "\n",
    "    2-LogisticRegression\n",
    "\n",
    "    3-DecisionTreeClassifier\n",
    "\n",
    "    4-RandomForestClassifier\n",
    "\n",
    "    5-GBTClassifier (Gradient-Boosted Trees)\n",
    "\n",
    "    6-MultilayerPerceptronClassifier\n",
    "\n",
    "---------Aprendizaje No Supervisado---------\n",
    "El aprendizaje no supervisado trabaja con datos no etiquetados. El objetivo es descubrir estructuras o patrones ocultos en los datos, como agrupamientos o relaciones, al contrario del supervisado no se conocen los datos. Su relacion entre ellos\n",
    "\n",
    "Algoritmos representativos:\n",
    "\n",
    "K-Means: agrupa los datos en k grupos basados en su similitud.\n",
    "\n",
    "Clustering jerárquico: construye un árbol de grupos.\n",
    "\n",
    "Análisis de componentes principales (PCA): reducción de dimensiones.\n",
    "\n",
    "DBSCAN: agrupamiento basado en densidad, tolerante al ruido.\n",
    "\n",
    "En PySpark, los algoritmos no supervisados disponibles son:\n",
    "\n",
    "    1-KMeans\n",
    "\n",
    "    2-BisectingKMeans\n",
    "\n",
    "    3-GaussianMixture\n",
    "\n",
    "    4-PCA (para reducción de dimensiones)"
   ]
  },
  {
   "cell_type": "markdown",
   "id": "48e2088746c9fda8",
   "metadata": {},
   "source": [
    "## Carga de Datos (PySpark)"
   ]
  },
  {
   "cell_type": "code",
   "execution_count": 8,
   "id": "6d7350e5",
   "metadata": {},
   "outputs": [],
   "source": [
    "from pyspark.sql import SparkSession\n",
    "from pyspark.sql.functions import col, when, explode\n",
    "from pyspark.ml.clustering import KMeans\n",
    "from pyspark.ml.evaluation import ClusteringEvaluator, MulticlassClassificationEvaluator\n",
    "from pyspark.ml.feature import VectorAssembler\n",
    "from pyspark.ml.classification import DecisionTreeClassifier, RandomForestClassifier\n",
    "from pyspark.ml.tuning import ParamGridBuilder, CrossValidator\n",
    "import matplotlib.pyplot as plt\n",
    "import os\n",
    "import findspark\n",
    "import glob\n",
    "from functools import reduce\n",
    "from pyspark.ml.feature import StringIndexer\n",
    "\n"
   ]
  },
  {
   "cell_type": "code",
   "execution_count": 2,
   "id": "df730efa",
   "metadata": {},
   "outputs": [
    {
     "name": "stdout",
     "output_type": "stream",
     "text": [
      "Iniciando Spark...\n",
      "SparkSession iniciada correctamente.\n",
      "Total de archivos encontrados: 1000\n",
      "Lectura completa.\n"
     ]
    }
   ],
   "source": [
    "# Función para inicializar Spark\n",
    "def iniciar_spark(app_name=\"Spotify\", memory=\"24g\"):\n",
    "    print(\"Iniciando Spark...\")\n",
    "    os.environ[\"SPARK_LOCAL_DIRS\"] = \"C:\\\\Users\\\\52614\\\\AppData\\\\Local\\\\Temp\"\n",
    "    findspark.init()\n",
    "    spark = SparkSession.builder \\\n",
    "        .appName(app_name) \\\n",
    "        .master(\"local[*]\") \\\n",
    "        .config(\"spark.driver.memory\", memory) \\\n",
    "        .getOrCreate()\n",
    "    print(\"SparkSession iniciada correctamente.\")\n",
    "    return spark\n",
    "\n",
    "# Función para leer archivos JSON por lotes\n",
    "def leer_archivos_en_lotes(spark, ruta_base, batch_size=3):\n",
    "    #Busca todos los arhicos json en en path que indique\n",
    "    archivos = sorted(glob.glob(os.path.join(ruta_base, \"*.json\")))\n",
    "    # Dividir los archivos en lotes para leerlos progresivamente , esto se hizo debido a la capicidad de la PC\n",
    "    print(f\"Total de archivos encontrados: {len(archivos)}\")\n",
    "    batches = [archivos[i:i + batch_size] for i in range(0, len(archivos), batch_size)]\n",
    "    \n",
    "    df_raw = None\n",
    "    # Iterar sobre cada lote de archivos\n",
    "    for idx, batch in enumerate(batches):\n",
    "        #print(f\"Leyendo lote {idx + 1}/{len(batches)} con {len(batch)} archivos...\")\n",
    "         # Leer el lote actual de archivos JSON con formato multiline\n",
    "        temp_df = spark.read.option(\"multiline\", \"true\").json(batch)\n",
    "        df_raw = temp_df if df_raw is None else df_raw.unionByName(temp_df)\n",
    "    \n",
    "    print(\"Lectura completa.\")\n",
    "    return df_raw\n",
    "\n",
    "# Ruta donde se encuentran los archivos JSON\n",
    "ruta_base = r\"D:\\Mestria\\Big data\\spotify-million\\versions\\1\\data\"\n",
    "\n",
    "spark = iniciar_spark()\n",
    "df_raw = leer_archivos_en_lotes(spark, ruta_base)\n",
    "\n",
    "# Explode del campo \"playlists\"\n",
    "playlists_df = df_raw.select(explode(\"playlists\").alias(\"playlist\"))\n",
    "\n",
    "# Clasificar tamaño de playlist\n",
    "playlists_cat_df = playlists_df.withColumn(\n",
    "    \"size_category\",\n",
    "    when(col(\"playlist.num_tracks\") <= 30, \"Corta\")\n",
    "    .when((col(\"playlist.num_tracks\") > 30) & (col(\"playlist.num_tracks\") <= 100), \"Media\")\n",
    "    .otherwise(\"Larga\")\n",
    ")\n",
    "#Si se queire revisar , descomentar la parte , imprimirlo no se ve estetico para la entrega\n",
    "#playlists_cat_df.show(5, truncate=False)"
   ]
  },
  {
   "cell_type": "markdown",
   "id": "f22cd3bd0feee1db",
   "metadata": {},
   "source": [
    "## Extracción de subconjuntos (submuestras)\n"
   ]
  },
  {
   "cell_type": "code",
   "execution_count": 3,
   "id": "initial_id",
   "metadata": {
    "ExecuteTime": {
     "end_time": "2025-05-05T02:39:42.547613Z",
     "start_time": "2025-05-05T02:39:38.951977Z"
    },
    "collapsed": true
   },
   "outputs": [
    {
     "name": "stdout",
     "output_type": "stream",
     "text": [
      "+--------------------+-------------+\n",
      "|            playlist|size_category|\n",
      "+--------------------+-------------+\n",
      "|{false, null, 433...|        Corta|\n",
      "|{false, null, 340...|        Corta|\n",
      "|{false, null, 429...|        Corta|\n",
      "+--------------------+-------------+\n",
      "only showing top 3 rows\n",
      "\n",
      "+--------------------+-------------+\n",
      "|            playlist|size_category|\n",
      "+--------------------+-------------+\n",
      "|{false, null, 115...|        Media|\n",
      "|{false, null, 116...|        Media|\n",
      "|{false, null, 140...|        Media|\n",
      "+--------------------+-------------+\n",
      "only showing top 3 rows\n",
      "\n",
      "+--------------------+-------------+\n",
      "|            playlist|size_category|\n",
      "+--------------------+-------------+\n",
      "|{false, null, 289...|        Larga|\n",
      "|{false, null, 356...|        Larga|\n",
      "|{false, null, 258...|        Larga|\n",
      "+--------------------+-------------+\n",
      "only showing top 3 rows\n",
      "\n",
      "+--------------------+-------------+\n",
      "|            playlist|size_category|\n",
      "+--------------------+-------------+\n",
      "|{true, null, 5549...|        Corta|\n",
      "|{true, null, 2443...|        Corta|\n",
      "|{true, null, 4344...|        Corta|\n",
      "+--------------------+-------------+\n",
      "only showing top 3 rows\n",
      "\n",
      "+--------------------+-------------+\n",
      "|            playlist|size_category|\n",
      "+--------------------+-------------+\n",
      "|{true, null, 2690...|        Media|\n",
      "|{true, null, 1571...|        Media|\n",
      "|{true, null, 1232...|        Media|\n",
      "+--------------------+-------------+\n",
      "only showing top 3 rows\n",
      "\n",
      "+--------------------+-------------+\n",
      "|            playlist|size_category|\n",
      "+--------------------+-------------+\n",
      "|{true, null, 2955...|        Larga|\n",
      "|{true, null, 4534...|        Larga|\n",
      "|{true, null, 2467...|        Larga|\n",
      "+--------------------+-------------+\n",
      "only showing top 3 rows\n",
      "\n"
     ]
    }
   ],
   "source": [
    "# 1. No colaborativa + Corta\n",
    "part_1 = playlists_cat_df.filter(\n",
    "    (col(\"playlist.collaborative\") == False) & \n",
    "    (col(\"size_category\") == \"Corta\")\n",
    ")\n",
    "part_1.show(3)\n",
    "\n",
    "# 2. No colaborativa + Media\n",
    "part_2 = playlists_cat_df.filter(\n",
    "    (col(\"playlist.collaborative\") == False) & \n",
    "    (col(\"size_category\") == \"Media\")\n",
    ")\n",
    "part_2.show(3)\n",
    "\n",
    "# 3. No colaborativa + Larga\n",
    "part_3 = playlists_cat_df.filter(\n",
    "    (col(\"playlist.collaborative\") == False) & \n",
    "    (col(\"size_category\") == \"Larga\")\n",
    ")\n",
    "part_3.show(3)\n",
    "\n",
    "# 4.No Colaborativa + Corta\n",
    "part_4 = playlists_cat_df.filter(\n",
    "    (col(\"playlist.collaborative\") == True) & \n",
    "    (col(\"size_category\") == \"Corta\")\n",
    ")\n",
    "part_4.show(3)\n",
    "\n",
    "# 5.Colaborativa + Media\n",
    "part_5 = playlists_cat_df.filter(\n",
    "    (col(\"playlist.collaborative\") == True) & \n",
    "    (col(\"size_category\") == \"Media\")\n",
    ")\n",
    "part_5.show(3)\n",
    "\n",
    "# 6. Colaborativa + Larga\n",
    "part_6 = playlists_cat_df.filter(\n",
    "    (col(\"playlist.collaborative\") == True) & \n",
    "    (col(\"size_category\") == \"Larga\")\n",
    ")\n",
    "part_6.show(3)\n"
   ]
  },
  {
   "cell_type": "markdown",
   "id": "4ed9c64d868aefe6",
   "metadata": {},
   "source": [
    "## Verificación"
   ]
  },
  {
   "cell_type": "code",
   "execution_count": 4,
   "id": "45a0634db8f5a10f",
   "metadata": {
    "ExecuteTime": {
     "end_time": "2025-05-05T02:44:38.550301Z",
     "start_time": "2025-05-05T02:39:51.213643Z"
    }
   },
   "outputs": [
    {
     "name": "stdout",
     "output_type": "stream",
     "text": [
      "Partición 1: 303361\n",
      "Partición 2: 463628\n",
      "Partición 3: 210442\n",
      "Partición 4: 5549\n",
      "Partición 5: 10980\n",
      "Partición 6: 6040\n"
     ]
    }
   ],
   "source": [
    "# Verificar cuántos registros hay en cada partición\n",
    "print(\"Partición 1:\", part_1.count())\n",
    "print(\"Partición 2:\", part_2.count())\n",
    "print(\"Partición 3:\", part_3.count())\n",
    "print(\"Partición 4:\", part_4.count())\n",
    "print(\"Partición 5:\", part_5.count())\n",
    "print(\"Partición 6:\", part_6.count())\n"
   ]
  },
  {
   "cell_type": "markdown",
   "id": "9467b45b4d43b453",
   "metadata": {},
   "source": [
    "###  Tabla de subconjuntos de particionamiento generados\n",
    "\n",
    "| ID de Partición | ¿Es colaborativa? | Tamaño de playlist  | Número de playlists |\n",
    "|------------------|--------------------|----------------------|----------------------|\n",
    "| Partición 1      | No                 | Corta (≤30 tracks)   | 303,361              |\n",
    "| Partición 2      | No                 | Media (31–100)       | 463,628              |\n",
    "| Partición 3      | No                 | Larga (>100)         | 210,442              |\n",
    "| Partición 4      | Sí                 | Corta (≤30 tracks)   | 5,549                |\n",
    "| Partición 5      | Sí                 | Media (31–100)       | 10,980               |\n",
    "| Partición 6      | Sí                 | Larga (>100)         | 6,040                |\n"
   ]
  },
  {
   "cell_type": "markdown",
   "id": "6e6b0e60",
   "metadata": {},
   "source": [
    "## Separacion de datos"
   ]
  },
  {
   "cell_type": "code",
   "execution_count": 5,
   "id": "5fe4ef3b",
   "metadata": {},
   "outputs": [],
   "source": [
    "# Muestreo uniforme por partición\n",
    "sample_size = 100\n",
    "particiones = [part_1, part_2, part_3, part_4, part_5, part_6]\n",
    "sampled_parts = [part.limit(sample_size) for part in particiones]\n",
    "\n",
    "# Unión de todas las muestras en un solo DataFrame\n",
    "sample_df = reduce(lambda df1, df2: df1.unionByName(df2), sampled_parts)\n",
    "\n",
    "#  eliminar filas con valores nulos\n",
    "sample_df = sample_df.na.drop()\n",
    "\n",
    "#Si se queire revisar , descomentar la parte , imprimirlo no se ve estetico para la entrega\n",
    "# Verificación\n",
    "#sample_df.show(5, truncate=False)"
   ]
  },
  {
   "cell_type": "markdown",
   "id": "ffc6acef",
   "metadata": {},
   "source": [
    "## Entrenamiento "
   ]
  },
  {
   "cell_type": "code",
   "execution_count": 6,
   "id": "2ef2b9b9",
   "metadata": {},
   "outputs": [],
   "source": [
    "# Dividir en train/test\n",
    "train_df, test_df = sample_df.randomSplit([0.7, 0.3], seed=42)\n"
   ]
  },
  {
   "cell_type": "code",
   "execution_count": 9,
   "id": "11eb67b6",
   "metadata": {},
   "outputs": [],
   "source": [
    "# Inicializamos el indexador, indicando la columna categórica de entrada y la columna numérica de salida\n",
    "indexer = StringIndexer(inputCol=\"size_category\", outputCol=\"label\")\n",
    "\n",
    "# Ajustamos el indexador \n",
    "indexer_model = indexer.fit(train_df)\n",
    "\n",
    "# Aplicamos la transformación \n",
    "train_df = indexer_model.transform(train_df)\n",
    "test_df = indexer_model.transform(test_df)"
   ]
  },
  {
   "cell_type": "markdown",
   "id": "50e1aa02",
   "metadata": {},
   "source": [
    "## DecisionTreeClassifier"
   ]
  },
  {
   "cell_type": "code",
   "execution_count": 10,
   "id": "c4aecb37",
   "metadata": {},
   "outputs": [
    {
     "name": "stdout",
     "output_type": "stream",
     "text": [
      "Accuracy: 0.9523809523809523\n"
     ]
    }
   ],
   "source": [
    "\n",
    "# Extraer la cantidad de canciones de la columna anidada de playlists\n",
    "train_df = train_df.withColumn(\"num_tracks\", col(\"playlist.num_tracks\"))\n",
    "test_df = test_df.withColumn(\"num_tracks\", col(\"playlist.num_tracks\"))\n",
    "\n",
    "# Convertir columnas numéricas en vector de características\n",
    "assembler = VectorAssembler(inputCols=[\"num_tracks\"], outputCol=\"features\")\n",
    "train_features = assembler.transform(train_df)\n",
    "test_features = assembler.transform(test_df)\n",
    "\n",
    "# Clasificador\n",
    "dt = DecisionTreeClassifier(labelCol=\"label\", featuresCol=\"features\")\n",
    "modelo = dt.fit(train_features)\n",
    "\n",
    "# Evaluación\n",
    "predictions = modelo.transform(test_features)\n",
    "evaluator = MulticlassClassificationEvaluator(labelCol=\"label\", metricName=\"accuracy\")\n",
    "r1=evaluator.evaluate(predictions)\n",
    "print(\"Accuracy:\", evaluator.evaluate(predictions))\n"
   ]
  },
  {
   "cell_type": "markdown",
   "id": "be15d983",
   "metadata": {},
   "source": [
    "## RandomForestClassifier"
   ]
  },
  {
   "cell_type": "code",
   "execution_count": 11,
   "id": "fe51a769",
   "metadata": {},
   "outputs": [
    {
     "name": "stdout",
     "output_type": "stream",
     "text": [
      "Accuracy del modelo Random Forest: 0.9523809523809523\n"
     ]
    }
   ],
   "source": [
    "# Inicializamos el ensamblador \n",
    "assembler = VectorAssembler(inputCols=[\"num_tracks\"], outputCol=\"features\")\n",
    "\n",
    "# Transformamos el conjunto \n",
    "train_features = assembler.transform(train_df)\n",
    "\n",
    "# Transformamos el conjunto \n",
    "test_features = assembler.transform(test_df)\n",
    "\n",
    "# Clasificador\n",
    "rf = RandomForestClassifier(labelCol=\"label\", featuresCol=\"features\")\n",
    "\n",
    "# Grid de hiperparámetros\n",
    "rf_paramGrid = ParamGridBuilder() \\\n",
    "    .addGrid(rf.numTrees, [10, 20]) \\\n",
    "    .addGrid(rf.maxDepth, [3, 5, 10]) \\\n",
    "    .build()\n",
    "\n",
    "# Evaluador\n",
    "evaluator = MulticlassClassificationEvaluator(labelCol=\"label\", metricName=\"accuracy\")\n",
    "\n",
    "# Validación cruzada\n",
    "rf_cv = CrossValidator(estimator=rf,\n",
    "                       estimatorParamMaps=rf_paramGrid,\n",
    "                       evaluator=evaluator,\n",
    "                       numFolds=3)\n",
    "\n",
    "# Entrenar el modelo\n",
    "rf_cv_model = rf_cv.fit(train_features)\n",
    "\n",
    "\n",
    "rf_predictions = rf_cv_model.transform(test_features)\n",
    "r2 = evaluator.evaluate(rf_predictions)\n",
    "# Resultado\n",
    "print(\"Accuracy del modelo Random Forest:\", r2)\n"
   ]
  },
  {
   "cell_type": "markdown",
   "id": "0d247c55",
   "metadata": {},
   "source": [
    "## KMeans"
   ]
  },
  {
   "cell_type": "code",
   "execution_count": 13,
   "id": "f6bd1881",
   "metadata": {},
   "outputs": [
    {
     "name": "stdout",
     "output_type": "stream",
     "text": [
      "Silhouette score: 0.7887656457056054\n"
     ]
    }
   ],
   "source": [
    "\n",
    "# Extraer la cantidad de canciones por album\n",
    "sample_df = sample_df.withColumn(\"num_tracks\", col(\"playlist.num_tracks\"))\n",
    "\n",
    "# Crear vector de características\n",
    "sample_features = assembler.transform(sample_df)\n",
    "\n",
    "# Entrenar modelo KMeans\n",
    "kmeans = KMeans(k=3, seed=1)\n",
    "modelo_kmeans = kmeans.fit(sample_features)\n",
    "resultados_kmeans = modelo_kmeans.transform(sample_features)\n",
    "\n",
    "# Evaluar con Silhouette\n",
    "evaluator = ClusteringEvaluator()\n",
    "r3=evaluator.evaluate(resultados_kmeans)\n",
    "print(\"Silhouette score:\", r3)\n"
   ]
  },
  {
   "cell_type": "markdown",
   "id": "5ea2bdd3",
   "metadata": {},
   "source": [
    "## Resultados"
   ]
  },
  {
   "cell_type": "code",
   "execution_count": 14,
   "id": "402d4786",
   "metadata": {},
   "outputs": [
    {
     "data": {
      "image/png": "[encoded data removed]",
      "text/plain": [
       "<Figure size 1000x600 with 1 Axes>"
      ]
     },
     "metadata": {},
     "output_type": "display_data"
    }
   ],
   "source": [
    "#Resultados obtenidos\n",
    "modelos = ['Decision Tree', 'Random Forest', 'K-Means (Silhouette)']\n",
    "metricas = ['Accuracy', 'Accuracy', 'Silhouette']\n",
    "valores = [ r1, r2,r3] \n",
    "\n",
    "# Crear gráfico de barras\n",
    "plt.figure(figsize=(10, 6))\n",
    "plt.bar(modelos, valores)\n",
    "plt.title('Comparación de Modelos de Machine Learning')\n",
    "plt.ylabel('Métrica (Accuracy / Silhouette Score)')\n",
    "plt.ylim(0, 1)\n",
    "plt.grid(axis='y')\n",
    "plt.tight_layout()\n",
    "plt.show()"
   ]
  },
  {
   "cell_type": "markdown",
   "id": "3ae32320",
   "metadata": {},
   "source": [
    "## Aprendizaje no supervisado:\n",
    "    \n",
    "     KMeans\n",
    "\n",
    "Se formaron 3 clusters (hipótesis basada en las categorías corta, media y larga).\n",
    "\n",
    "El valor del Silhouette Score fue moderado , indicando que los clusters están separados pero mo definidos\n",
    "Visualmente, los clusters tienden a agrupar playlists por tamaño, pero hay cierta superposición en los límites algunas muestras de tamaño medio se mezclan con las de tamaño alrgi.\n",
    "\n",
    "Ventajas:\n",
    "\n",
    "No requiere etiquetas.\n",
    "\n",
    "Es útil para análisis exploratorio o segmentación de clientes.\n",
    "\n",
    "Desventajas:\n",
    "\n",
    "Muy sensible a la escala de las variables, en este caso se controlo con la segementacion.\n",
    "\n",
    "\n",
    "## Aprendizaje Supervisado:\n",
    "\n",
    "     DecisionTreeClassifier\n",
    "\n",
    "Resultados:\n",
    "\n",
    "\n",
    "\n",
    "Las métricas de clasificación indicaron cierta confusión entre clases vecinas tambien marca confucion entre clases.\n",
    "\n",
    "Ventajas:\n",
    "\n",
    "Fácil de interpretar y visualizar.\n",
    "\n",
    "\n",
    "Desventajas:\n",
    "\n",
    "Alta propensión al sobreajuste, especialmente con pocos datos o con datos ruidosos.\n",
    "\n",
    "Menor robustez ante variaciones en los datos.\n",
    "\n",
    "     RandomForestClassifier\n",
    "\n",
    "Descripción:\n",
    "\n",
    "\n",
    "Se utilizó un Grid Search con CrossValidator para optimizar hiperparámetros.\n",
    "\n",
    "Resultados:\n",
    "\n",
    "\n",
    "Claramente superó al árbol de decisión individual.\n",
    "\n",
    "Menor cantidad de falsos positivos y falsos negativos.\n",
    "\n",
    "Predicciones más estables ante nuevos datos.\n",
    "\n",
    "Ventajas:\n",
    "\n",
    "Excelente rendimiento en tareas supervisadas con bajo riesgo de sobreajuste.\n",
    "\n",
    "Generaliza mejor que un solo árbol.\n",
    "\n",
    "\n",
    "Desventajas:\n",
    "\n",
    "Requiere más tiempo de entrenamiento y recursos computacionales.\n",
    "\n",
    "No tan fácil de interpretar como un árbol único.\n"
   ]
  },
  {
   "cell_type": "markdown",
   "id": "1d823f96",
   "metadata": {},
   "source": [
    "## Conclusion:\n",
    "Random Forest fue el mejor modelo, con el mayor accuracy , Ideal para clasificación de playlists por tamaño.\n",
    "\n",
    "El Árbol de decisión solo es útil cuando se necesita una solución rápida y explicable-\n",
    "\n",
    "KMeans, aunque no alcanzó resultados tan sólidos como los supervisados, fue útil para identificar patrones sin necesidad de etiquetas, lo cual es muy valioso en entornos donde no siempre se tiene una categoría objetivo definida.\n",
    "\n"
   ]
  }
 ],
 "metadata": {
  "kernelspec": {
   "display_name": "Python 3",
   "language": "python",
   "name": "python3"
  },
  "language_info": {
   "codemirror_mode": {
    "name": "ipython",
    "version": 3
   },
   "file_extension": ".py",
   "mimetype": "text/x-python",
   "name": "python",
   "nbconvert_exporter": "python",
   "pygments_lexer": "ipython3",
   "version": "3.9.21"
  }
 },
 "nbformat": 4,
 "nbformat_minor": 5
}
