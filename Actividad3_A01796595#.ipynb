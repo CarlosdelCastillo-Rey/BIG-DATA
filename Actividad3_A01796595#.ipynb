{
 "cells": [
  {
   "cell_type": "markdown",
   "id": "b065c4cf5870c253",
   "metadata": {},
   "source": [
    "# Particionamiento del Dataset: Million Playlist Dataset (MPD)\n",
    "\n",
    "## Descripción del Dataset (D)\n",
    "\n",
    "La base de datos utilizada en este proyecto es el **Million Playlist Dataset**, desarrollado por Spotify para el RecSys Challenge 2018. Contiene un millón de playlists públicas creadas por usuarios en Estados Unidos entre 2010 y 2017. Cada playlist incluye metadatos como su título, cantidad de canciones, duración total, número de artistas únicos, número de álbumes, número de ediciones, si es colaborativa o no, y un arreglo con todas las canciones que contiene. El objetivo es analizar comportamientos musicales y patrones de curaduría de los usuarios.\n",
    "\n",
    "\n",
    "---\n",
    "\n",
    "## Reglas de Particionamiento\n",
    "\n",
    "Para dividir el dataset original `D` en subconjuntos significativos, se utilizaron dos variables de caracterización:\n",
    "\n",
    "- `playlist.collaborative` → indica si la playlist fue construida de manera colaborativa (True) o no (False).\n",
    "- `playlist.num_tracks` → número de canciones en la playlist, agrupado en tres categorías:\n",
    "    - **Corta**: 5–30 canciones\n",
    "    - **Media**: 31–100 canciones\n",
    "    - **Larga**: más de 100 canciones\n",
    "\n",
    "Esto generó **6 combinaciones posibles**, que se detallan a continuación:\n",
    "\n",
    "1. `No colaborativa` + `Corta`\n",
    "2. `No colaborativa` + `Media`\n",
    "3. `No colaborativa` + `Larga`\n",
    "4. `Colaborativa` + `Corta`\n",
    "5. `Colaborativa` + `Media`\n",
    "6. `Colaborativa` + `Larga`\n",
    "\n",
    "Cada combinación representa una **regla de particionamiento**, y será usada para extraer subconjuntos de datos.\n",
    "\n",
    "---"
   ]
  },
  {
   "cell_type": "markdown",
   "id": "a4408252",
   "metadata": {},
   "source": [
    "## Marco teorico"
   ]
  },
  {
   "cell_type": "markdown",
   "id": "bc2b7932",
   "metadata": {},
   "source": [
    "El aprendizaje automático  se clasifica principalmente en dos grandes categorías: aprendizaje supervisado y aprendizaje no supervisado. Ambos estan enfocados en que las  máquinas aprendan a partir de datos, pero con diferentes objetivos y metodologías.\n",
    "\n",
    "---------Aprendizaje Supervisado-----------\n",
    "El modelo se entrena con un conjunto de datos etiquetado, es decir, cada entrada está asociada a una salida o clase conocida. El objetivo es que el modelo aprenda a predecir o clasificar correctamente nuevas entradas con base a la entrada, es decir ya se conocen los datos.\n",
    "\n",
    "Algoritmos representativos:\n",
    "\n",
    "Regresión lineal: para predecir valores continuos.\n",
    "\n",
    "Regresión logística: para clasificación binaria o multiclase.\n",
    "\n",
    "Árboles de decisión: estructura jerárquica que divide el espacio de decisión.\n",
    "\n",
    "Random Forest: conjunto de árboles que mejora la generalización.\n",
    "\n",
    "Máquinas de vectores de soporte : encuentra el hiperplano óptimo para separar clases.\n",
    "\n",
    "Redes neuronales: modelos complejos inspirados en el cerebro humano.\n",
    "\n",
    "En PySpark , los algoritmos supervisados disponibles son:\n",
    "\n",
    "    1-LinearRegression\n",
    "\n",
    "    2-LogisticRegression\n",
    "\n",
    "    3-DecisionTreeClassifier\n",
    "\n",
    "    4-RandomForestClassifier\n",
    "\n",
    "    5-GBTClassifier (Gradient-Boosted Trees)\n",
    "\n",
    "    6-MultilayerPerceptronClassifier\n",
    "\n",
    "---------Aprendizaje No Supervisado---------\n",
    "El aprendizaje no supervisado trabaja con datos no etiquetados. El objetivo es descubrir estructuras o patrones ocultos en los datos, como agrupamientos o relaciones, al contrario del supervisado no se conocen los datos. Su relacion entre ellos\n",
    "\n",
    "Algoritmos representativos:\n",
    "\n",
    "K-Means: agrupa los datos en k grupos basados en su similitud.\n",
    "\n",
    "Clustering jerárquico: construye un árbol de grupos.\n",
    "\n",
    "Análisis de componentes principales (PCA): reducción de dimensiones.\n",
    "\n",
    "DBSCAN: agrupamiento basado en densidad, tolerante al ruido.\n",
    "\n",
    "En PySpark, los algoritmos no supervisados disponibles son:\n",
    "\n",
    "    1-KMeans\n",
    "\n",
    "    2-BisectingKMeans\n",
    "\n",
    "    3-GaussianMixture\n",
    "\n",
    "    4-PCA (para reducción de dimensiones)"
   ]
  },
  {
   "cell_type": "markdown",
   "id": "48e2088746c9fda8",
   "metadata": {},
   "source": [
    "## Carga de Datos (PySpark)"
   ]
  },
  {
   "cell_type": "code",
   "execution_count": 2,
   "id": "6d7350e5",
   "metadata": {},
   "outputs": [],
   "source": [
    "from pyspark.sql import SparkSession\n",
    "from pyspark.sql.functions import col, when, explode\n",
    "from pyspark.ml.clustering import KMeans\n",
    "from pyspark.ml.evaluation import ClusteringEvaluator, MulticlassClassificationEvaluator\n",
    "from pyspark.ml.feature import VectorAssembler\n",
    "from pyspark.ml.classification import DecisionTreeClassifier, RandomForestClassifier\n",
    "from pyspark.ml.tuning import ParamGridBuilder, CrossValidator\n",
    "import matplotlib.pyplot as plt\n",
    "import os\n",
    "import findspark\n",
    "import glob\n",
    "\n"
   ]
  },
  {
   "cell_type": "code",
   "execution_count": 4,
   "id": "df730efa",
   "metadata": {},
   "outputs": [
    {
     "name": "stdout",
     "output_type": "stream",
     "text": [
      "Iniciando Spark...\n",
      "SparkSession iniciada correctamente.\n",
      "Total de archivos encontrados: 1000\n",
      "Lectura completa.\n"
     ]
    }
   ],
   "source": [
    "# Función para inicializar Spark\n",
    "def iniciar_spark(app_name=\"Spotify\", memory=\"24g\"):\n",
    "    print(\"Iniciando Spark...\")\n",
    "    os.environ[\"SPARK_LOCAL_DIRS\"] = \"C:\\\\Users\\\\52614\\\\AppData\\\\Local\\\\Temp\"\n",
    "    findspark.init()\n",
    "    spark = SparkSession.builder \\\n",
    "        .appName(app_name) \\\n",
    "        .master(\"local[*]\") \\\n",
    "        .config(\"spark.driver.memory\", memory) \\\n",
    "        .getOrCreate()\n",
    "    print(\"SparkSession iniciada correctamente.\")\n",
    "    return spark\n",
    "\n",
    "# Función para leer archivos JSON por lotes\n",
    "def leer_archivos_en_lotes(spark, ruta_base, batch_size=3):\n",
    "    #Busca todos los arhicos json en en path que indique\n",
    "    archivos = sorted(glob.glob(os.path.join(ruta_base, \"*.json\")))\n",
    "    # Dividir los archivos en lotes para leerlos progresivamente , esto se hizo debido a la capicidad de la PC\n",
    "    print(f\"Total de archivos encontrados: {len(archivos)}\")\n",
    "    batches = [archivos[i:i + batch_size] for i in range(0, len(archivos), batch_size)]\n",
    "    \n",
    "    df_raw = None\n",
    "    # Iterar sobre cada lote de archivos\n",
    "    for idx, batch in enumerate(batches):\n",
    "        #print(f\"Leyendo lote {idx + 1}/{len(batches)} con {len(batch)} archivos...\")\n",
    "        \n",
    "         # Leer el lote actual de archivos JSON con formato multiline\n",
    "        temp_df = spark.read.option(\"multiline\", \"true\").json(batch)\n",
    "        df_raw = temp_df if df_raw is None else df_raw.unionByName(temp_df)\n",
    "    \n",
    "    print(\"Lectura completa.\")\n",
    "    return df_raw\n",
    "\n",
    "# Ruta donde se encuentran los archivos JSON\n",
    "ruta_base = r\"D:\\Mestria\\Big data\\spotify-million\\versions\\1\\data\"\n",
    "\n",
    "spark = iniciar_spark()\n",
    "df_raw = leer_archivos_en_lotes(spark, ruta_base)\n",
    "\n",
    "# Explode del campo \"playlists\"\n",
    "playlists_df = df_raw.select(explode(\"playlists\").alias(\"playlist\"))\n",
    "\n",
    "# Clasificar tamaño de playlist\n",
    "playlists_cat_df = playlists_df.withColumn(\n",
    "    \"size_category\",\n",
    "    when(col(\"playlist.num_tracks\") <= 30, \"Corta\")\n",
    "    .when((col(\"playlist.num_tracks\") > 30) & (col(\"playlist.num_tracks\") <= 100), \"Media\")\n",
    "    .otherwise(\"Larga\")\n",
    ")\n",
    "#Si se queire revisar , descomentar la parte , imprimirlo no se ve estetico para la entrega\n",
    "#playlists_cat_df.show(5, truncate=False)"
   ]
  },
  {
   "cell_type": "markdown",
   "id": "f22cd3bd0feee1db",
   "metadata": {},
   "source": [
    "## Extracción de subconjuntos (submuestras)\n"
   ]
  },
  {
   "cell_type": "code",
   "execution_count": null,
   "id": "initial_id",
   "metadata": {
    "ExecuteTime": {
     "end_time": "2025-05-05T02:39:42.547613Z",
     "start_time": "2025-05-05T02:39:38.951977Z"
    },
    "collapsed": true
   },
   "outputs": [
    {
     "name": "stdout",
     "output_type": "stream",
     "text": [
      "+--------------------+-------------+\n",
      "|            playlist|size_category|\n",
      "+--------------------+-------------+\n",
      "|{false, null, 433...|        Corta|\n",
      "|{false, null, 340...|        Corta|\n",
      "|{false, null, 429...|        Corta|\n",
      "+--------------------+-------------+\n",
      "only showing top 3 rows\n",
      "\n",
      "+--------------------+-------------+\n",
      "|            playlist|size_category|\n",
      "+--------------------+-------------+\n",
      "|{false, null, 115...|        Media|\n",
      "|{false, null, 116...|        Media|\n",
      "|{false, null, 140...|        Media|\n",
      "+--------------------+-------------+\n",
      "only showing top 3 rows\n",
      "\n",
      "+--------------------+-------------+\n",
      "|            playlist|size_category|\n",
      "+--------------------+-------------+\n",
      "|{false, null, 289...|        Larga|\n",
      "|{false, null, 356...|        Larga|\n",
      "|{false, null, 258...|        Larga|\n",
      "+--------------------+-------------+\n",
      "only showing top 3 rows\n",
      "\n",
      "+--------------------+-------------+\n",
      "|            playlist|size_category|\n",
      "+--------------------+-------------+\n",
      "|{true, null, 5549...|        Corta|\n",
      "|{true, null, 2443...|        Corta|\n",
      "|{true, null, 4344...|        Corta|\n",
      "+--------------------+-------------+\n",
      "only showing top 3 rows\n",
      "\n",
      "+--------------------+-------------+\n",
      "|            playlist|size_category|\n",
      "+--------------------+-------------+\n",
      "|{true, null, 2690...|        Media|\n",
      "|{true, null, 1571...|        Media|\n",
      "|{true, null, 1232...|        Media|\n",
      "+--------------------+-------------+\n",
      "only showing top 3 rows\n",
      "\n",
      "+--------------------+-------------+\n",
      "|            playlist|size_category|\n",
      "+--------------------+-------------+\n",
      "|{true, null, 2955...|        Larga|\n",
      "|{true, null, 4534...|        Larga|\n",
      "|{true, null, 2467...|        Larga|\n",
      "+--------------------+-------------+\n",
      "only showing top 3 rows\n",
      "\n"
     ]
    }
   ],
   "source": [
    "# 1. No colaborativa + Corta\n",
    "part_1 = playlists_cat_df.filter(\n",
    "    (col(\"playlist.collaborative\") == False) & \n",
    "    (col(\"size_category\") == \"Corta\")\n",
    ")\n",
    "part_1.show(3)\n",
    "\n",
    "# 2. No colaborativa + Media\n",
    "part_2 = playlists_cat_df.filter(\n",
    "    (col(\"playlist.collaborative\") == False) & \n",
    "    (col(\"size_category\") == \"Media\")\n",
    ")\n",
    "part_2.show(3)\n",
    "\n",
    "# 3. No colaborativa + Larga\n",
    "part_3 = playlists_cat_df.filter(\n",
    "    (col(\"playlist.collaborative\") == False) & \n",
    "    (col(\"size_category\") == \"Larga\")\n",
    ")\n",
    "part_3.show(3)\n",
    "\n",
    "# 4.No Colaborativa + Corta\n",
    "part_4 = playlists_cat_df.filter(\n",
    "    (col(\"playlist.collaborative\") == True) & \n",
    "    (col(\"size_category\") == \"Corta\")\n",
    ")\n",
    "part_4.show(3)\n",
    "\n",
    "# 5.Colaborativa + Media\n",
    "part_5 = playlists_cat_df.filter(\n",
    "    (col(\"playlist.collaborative\") == True) & \n",
    "    (col(\"size_category\") == \"Media\")\n",
    ")\n",
    "part_5.show(3)\n",
    "\n",
    "# 6. Colaborativa + Larga\n",
    "part_6 = playlists_cat_df.filter(\n",
    "    (col(\"playlist.collaborative\") == True) & \n",
    "    (col(\"size_category\") == \"Larga\")\n",
    ")\n",
    "part_6.show(3)\n"
   ]
  },
  {
   "cell_type": "markdown",
   "id": "4ed9c64d868aefe6",
   "metadata": {},
   "source": [
    "## Verificación"
   ]
  },
  {
   "cell_type": "code",
   "execution_count": 6,
   "id": "45a0634db8f5a10f",
   "metadata": {
    "ExecuteTime": {
     "end_time": "2025-05-05T02:44:38.550301Z",
     "start_time": "2025-05-05T02:39:51.213643Z"
    }
   },
   "outputs": [
    {
     "name": "stdout",
     "output_type": "stream",
     "text": [
      "Partición 1: 303361\n",
      "Partición 2: 463628\n",
      "Partición 3: 210442\n",
      "Partición 4: 5549\n",
      "Partición 5: 10980\n",
      "Partición 6: 6040\n"
     ]
    }
   ],
   "source": [
    "# Verificar cuántos registros hay en cada partición\n",
    "print(\"Partición 1:\", part_1.count())\n",
    "print(\"Partición 2:\", part_2.count())\n",
    "print(\"Partición 3:\", part_3.count())\n",
    "print(\"Partición 4:\", part_4.count())\n",
    "print(\"Partición 5:\", part_5.count())\n",
    "print(\"Partición 6:\", part_6.count())\n"
   ]
  },
  {
   "cell_type": "markdown",
   "id": "9467b45b4d43b453",
   "metadata": {},
   "source": [
    "###  Tabla de subconjuntos de particionamiento generados\n",
    "\n",
    "| ID de Partición | ¿Es colaborativa? | Tamaño de playlist  | Número de playlists |\n",
    "|------------------|--------------------|----------------------|----------------------|\n",
    "| Partición 1      | No                 | Corta (≤30 tracks)   | 303,361              |\n",
    "| Partición 2      | No                 | Media (31–100)       | 463,628              |\n",
    "| Partición 3      | No                 | Larga (>100)         | 210,442              |\n",
    "| Partición 4      | Sí                 | Corta (≤30 tracks)   | 5,549                |\n",
    "| Partición 5      | Sí                 | Media (31–100)       | 10,980               |\n",
    "| Partición 6      | Sí                 | Larga (>100)         | 6,040                |\n"
   ]
  },
  {
   "cell_type": "markdown",
   "id": "6e6b0e60",
   "metadata": {},
   "source": [
    "## Separacion de datos"
   ]
  },
  {
   "cell_type": "code",
   "execution_count": null,
   "id": "5fe4ef3b",
   "metadata": {},
   "outputs": [
    {
     "name": "stdout",
     "output_type": "stream",
     "text": [
      "+-----------------------------------------------------------------------------------------------------------------------------------------------------------------------------------------------------------------------------------------------------------------------------------------------------------------------------------------------------------------------------------------------------------------------------------------------------------------------------------------------------------------------------------------------------------------------------------------------------------------------------------------------------------------------------------------------------------------------------------------------------------------------------------------------------------------------------------------------------------------------------------------------------------------------------------------------------------------------------------------------------------------------------------------------------------------------------------------------------------------------------------------------------------------------------------------------------------------------------------------------------------------------------------------------------------------------------------------------------------------------------------------------------------------------------------------------------------------------------------------------------------------------------------------------------------------------------------------------------------------------------------------------------------------------------------------------------------------------------------------------------------------------------------------------------------------------------------------------------------------------------------------------------------------------------------------------------------------------------------------------------------------------------------------------------------------------------------------------------------------------------------------------------------------------------------------------------------------------------------------------------------------------------------------------------------------------------------------------------------------------------------------------------------------------------------------------------------------------------------------------------------------------------------------------------------------------------------------------------------------------------------------------------------------------------------------------------------------------------------------------------------------------------------------------------------------------------------------------------------------------------------------------------------------------------------------------------------------------------------------------------------------------------------------------------------------------------------------------------------------------------------------------------------------------------------------------------------------------------------------------------------------------------------------------------------------------------------------------------------------------------------------------------------------------------------------------------------------------------------------------------------------------------------------------------------------------------------------------------------------------------------------------------------------------------------------------------------------------------------------------------------------------------------------------------------------------------------------------------------------------------------------------------------------------------------------------------------------------------------------------------------------------------------------------------------------------------------------------------------------------------------------+-------------+\n",
      "|playlist                                                                                                                                                                                                                                                                                                                                                                                                                                                                                                                                                                                                                                                                                                                                                                                                                                                                                                                                                                                                                                                                                                                                                                                                                                                                                                                                                                                                                                                                                                                                                                                                                                                                                                                                                                                                                                                                                                                                                                                                                                                                                                                                                                                                                                                                                                                                                                                                                                                                                                                                                                                                                                                                                                                                                                                                                                                                                                                                                                                                                                                                                                                                                                                                                                                                                                                                                                                                                                                                                                                                                                                                                                                                                                                                                                                                                                                                                                                                                                                                                                                                                                                                 |size_category|\n",
      "+-----------------------------------------------------------------------------------------------------------------------------------------------------------------------------------------------------------------------------------------------------------------------------------------------------------------------------------------------------------------------------------------------------------------------------------------------------------------------------------------------------------------------------------------------------------------------------------------------------------------------------------------------------------------------------------------------------------------------------------------------------------------------------------------------------------------------------------------------------------------------------------------------------------------------------------------------------------------------------------------------------------------------------------------------------------------------------------------------------------------------------------------------------------------------------------------------------------------------------------------------------------------------------------------------------------------------------------------------------------------------------------------------------------------------------------------------------------------------------------------------------------------------------------------------------------------------------------------------------------------------------------------------------------------------------------------------------------------------------------------------------------------------------------------------------------------------------------------------------------------------------------------------------------------------------------------------------------------------------------------------------------------------------------------------------------------------------------------------------------------------------------------------------------------------------------------------------------------------------------------------------------------------------------------------------------------------------------------------------------------------------------------------------------------------------------------------------------------------------------------------------------------------------------------------------------------------------------------------------------------------------------------------------------------------------------------------------------------------------------------------------------------------------------------------------------------------------------------------------------------------------------------------------------------------------------------------------------------------------------------------------------------------------------------------------------------------------------------------------------------------------------------------------------------------------------------------------------------------------------------------------------------------------------------------------------------------------------------------------------------------------------------------------------------------------------------------------------------------------------------------------------------------------------------------------------------------------------------------------------------------------------------------------------------------------------------------------------------------------------------------------------------------------------------------------------------------------------------------------------------------------------------------------------------------------------------------------------------------------------------------------------------------------------------------------------------------------------------------------------------------------------------+-------------+\n",
      "|{false, null, 4335282, 1401667200, 90s, 16, 16, 7, 2, 17, 4, [{Mellon Collie and the Infinite Sadness, spotify:album:4bPT6Q8ppaSNppk1kbEbLl, The Smashing Pumpkins, spotify:artist:40Yq4vzPs9VNUrIBG5Jr2i, 254626, 0, Tonight, Tonight, spotify:track:4iCGSi1RonREsPtfEKYj5b}, {(What's The Story) Morning Glory? [Remastered], spotify:album:1VW1MFNstaJuygaoTPkdCk, Oasis, spotify:artist:2DaxqgrOhkeH0fpeiQq2f4, 258773, 1, Wonderwall - Remastered, spotify:track:5qqabIl2vWzo9ApSC317sa}, {I Don't Want To Miss A Thing, spotify:album:616UgaZTc454Gu0aXxVH3K, Aerosmith, spotify:artist:7Ey4PD4MYsKc5I2dolUwbH, 299760, 2, I Don't Want to Miss a Thing - From the Touchstone film, \"Armageddon\", spotify:track:0c1gHntWjKD7QShC8s99sq}, {Retrospective 1990-2005 [Ltd. Deluxe Version], spotify:album:7HmJbm1e1f0BkwyjBwGiGJ, Natalie Merchant, spotify:artist:73JEBdDEFeVaOLg3y0HhBD, 164053, 3, Jealousy - Remastered Single Version, spotify:track:7p2aGxnxFYf6VLQPEYirPO}, {Crazysexycool, spotify:album:5eg56dCpFn32neJak2vk0f, TLC, spotify:artist:0TImkz4nPqjegtVSMZnMRq, 279506, 4, Waterfalls, spotify:track:6qspW4YKycviDFjHBOaqUY}, {Mellon Collie and the Infinite Sadness, spotify:album:4bPT6Q8ppaSNppk1kbEbLl, The Smashing Pumpkins, spotify:artist:40Yq4vzPs9VNUrIBG5Jr2i, 266200, 5, 1979, spotify:track:3Y8Ff1nH44jFywAtpgmleZ}, {Left Of The Middle, spotify:album:38alWeQVP9UUAGJvLptys9, Natalie Imbruglia, spotify:artist:0dlOr0VIysztGWvU1dpjmP, 244666, 6, Torn, spotify:track:1Jaah2tmN9Hv81A87KZ1MU}, {Tails, spotify:album:5z0b4cI7aflFVUIGnLW8v8, Lisa Loeb & Nine Stories, spotify:artist:4a7CDXcRCXi4kp5z7SEXtg, 183716, 7, Stay, spotify:track:4ARhdB2FzpXcko8T03YVen}, {Toni Braxton, spotify:album:68UvxaKwEF3GBuKjZ5OfEP, Toni Braxton, spotify:artist:3X458ddYA2YcVWuVIGGOYe, 269173, 8, Breathe Again, spotify:track:68ZD7M5tOBBM0N5XWRECoD}, {Surfacing, spotify:album:4Z0SuRbaHi6Xiy0FbVvk8V, Sarah McLachlan, spotify:artist:4NgNsOXSwIzXlUIJcpnNUp, 266026, 9, Angel, spotify:track:6G8fblD9DbcEmaKOKDy3XL}, {Urban Hymns, spotify:album:5aY2ZGwROKS4QU5QDW3SqD, The Verve, spotify:artist:2cGwlqi3k18jFpUyTrsR84, 357266, 10, Bitter Sweet Symphony, spotify:track:3Z9PJ6xiEGmcqo2hESEB5n}, {Grave Dancers Union, spotify:album:3EFhsxrJoH3yE3r8bHheE6, Soul Asylum, spotify:artist:02da1vDJ2hWqfK7aJL6SJm, 265866, 11, Runaway Train, spotify:track:3TW48DvQ7ChwY1Yy1tkMaP}, {Villains, spotify:album:6Rv9Ajtycre9EYG75k3y9Q, The Verve Pipe, spotify:artist:242iqFnwNhlidVBMI9GYKp, 269466, 12, The Freshmen, spotify:track:3rfDfPjgHDQ1BUaSHr9xoI}, {Life For Rent, spotify:album:7HlZFlk0jJq3Bb03AOyMTE, Dido, spotify:artist:2mpeljBig2IXLXRAFO9AAs, 240040, 13, White Flag, spotify:track:6si71supnBUhddjR2FJc2L}, {The Best Of Sade, spotify:album:5eLHiRRgWKHtzEbQCew8pK, Sade, spotify:artist:47zz7sob9NUcODy0BTDvKx, 258693, 14, Smooth Operator - Single Version, spotify:track:3XEtw7t4V5sfd2vtkp0ql7}, {The Best Of Suzanne Vega - Tried And True, spotify:album:7zNOhy2eut38BNsjAm2Utk, DNA, spotify:artist:4mesemBJJwnGX6tRaMvGbn, 227866, 15, Tom's Diner - 7\" Version, spotify:track:6HS5QOvhd4w3XqJMDaEWcv}, {Cracked Rear View, spotify:album:5AYmpTfdv1OoASUJ5rZB7K, Hootie & The Blowfish, spotify:artist:08ct2eZF5lUPdJpHwNKWof, 229586, 16, Only Wanna Be With You, spotify:track:1OFKUn2VLafrHj7ybnap0Q}]}                                                                                                                                                                                                                                                                                                                                                                                                                                                                                                                                                                                                                                                                                                                                                      |Corta        |\n",
      "|{false, null, 3408479, 1477094400, I Put A Spell On You, 15, 13, 2, 1, 16, 6, [{Creedence Clearwater Revival, spotify:album:7oIftk0P8cViwNpNEdCYl2, Creedence Clearwater Revival, spotify:artist:3IYUhFvPQItj6xySrBmZkd, 271786, 0, I Put A Spell On You, spotify:track:4SDywo3ykB2PEthjXvo1UP}, {Reptilians, spotify:album:5pfqk4oFycMVynOD8S2Cqs, STRFKR, spotify:artist:2Tz1DTzVJ5Gyh8ZwVr6ekU, 190360, 1, Bury Us Alive, spotify:track:229SqGbacrLSBfb9XfJczF}, {311, spotify:album:6VIeIM5tetuv7FrYxISffU, 311, spotify:artist:41Q0HrwWBtuUkJc7C1Rp6K, 204160, 2, Jackolantern's Weather, spotify:track:0orNm6qQT2B5WFi0l7l3PV}, {Nathaniel Rateliff & The Night Sweats, spotify:album:2UCyiayMoJOwBilPLQPQvK, Nathaniel Rateliff & The Night Sweats, spotify:artist:02seUFsFQP7TH4hLrTj77o, 247612, 3, S.O.B., spotify:track:1hWQvA6oGVJ2mAVsZ59AaV}, {Rubberneck, spotify:album:7tFTqVGHceSlXOaz8IylBN, Toadies, spotify:artist:2QMMktUMtwMSwUZATX1cRO, 309573, 4, Possum Kingdom, spotify:track:56SkdBKyR2zOkjk6wVFI9s}, {Songs For The Deaf, spotify:album:4w3NeXtywU398NYW4903rY, Queens of the Stone Age, spotify:artist:4pejUc4iciQfgdX6OKulQn, 278746, 5, No One Knows, spotify:track:6y20BV5L33R8YXM0YuI38N}, {No Need To Argue (The Complete Sessions 1994-1995), spotify:album:2KsgTeLQXz7yDV1joGOd2L, The Cranberries, spotify:artist:7t0rwkOPGlDPEhaOcVtOt9, 306440, 6, Zombie, spotify:track:6xy6jNeNTYwjnKTDzMyHw2}, {Project 1950, spotify:album:6MzZSl19bVR3xWwFCOZyhg, Misfits, spotify:artist:1cXi8ALPQCBHZbf0EgP4Ey, 157000, 7, Monster Mash, spotify:track:0rK3iUuoyQp6QReDPzwlYD}, {Evilive, spotify:album:4CWxS5ASY9eRE2zXP8BTRd, Misfits, spotify:artist:1cXi8ALPQCBHZbf0EgP4Ey, 102539, 8, Ghouls Night Out - Live, spotify:track:2k5lMt43DRIoEZPuswnULH}, {Static Age, spotify:album:51tAz06EJxwhsk8uNfWxBo, Misfits, spotify:artist:1cXi8ALPQCBHZbf0EgP4Ey, 102266, 9, Hybrid Moments, spotify:track:3gN4UFoOnRHlMl3K4kU5zG}, {Here's Willy Moon, spotify:album:2S3gt2I3A1xWMdce85Bf8M, Willy Moon, spotify:artist:5aPH21KxzBBb7SZTpuITrC, 164773, 10, Yeah Yeah, spotify:track:37gYTPAIfSk7igC3cpf7BL}, {Holiday Man, spotify:album:6926E0NLdNZiEjK9ygGUCq, The Flys, spotify:artist:3brlG1zNhqIkYhdneCaPVi, 242453, 11, Got You (Where I Want You), spotify:track:1xpd5XqLsrQDBa81ON2kOb}, {Currents, spotify:album:0rxKf57PZvWEoU8v3m5W2q, Tame Impala, spotify:artist:5INjqkS1o8h1imAzPqGZBb, 216318, 12, The Less I Know The Better, spotify:track:4g3Ax56IslQkI6XVfYKVc5}, {1000 Forms Of Fear, spotify:album:3xFSl9lIRaYXIYkIn3OIl9, Sia, spotify:artist:5WUlDfRSoLAfcVSX1WnrxN, 216120, 13, Chandelier, spotify:track:4VrWlk8IQxevMvERoX08iC}, {1000 Forms Of Fear, spotify:album:3xFSl9lIRaYXIYkIn3OIl9, Sia, spotify:artist:5WUlDfRSoLAfcVSX1WnrxN, 257200, 14, Elastic Heart, spotify:track:6kwAbEjseqBob48jCus7Sz}, {Whatever People Say I Am, That's What I'm Not, spotify:album:50Zz8CkIhATKUlQMbHO3k1, Arctic Monkeys, spotify:artist:7Ln80lUS6He07XvHI8qqHH, 141133, 15, Dancing Shoes, spotify:track:0hAMkY2kwdXPPDfQ1e3BmJ}]}                                                                                                                                                                                                                                                                                                                                                                                                                                                                                                                                                                                                                                                                                                                                                                                                                                                                                                                                                                                                                                                          |Corta        |\n",
      "|{false, null, 4297488, 1501804800, old country , 20, 18, 10, 1, 21, 9, [{Nashville Rebel, spotify:album:3DDUesugWE5mJjTF5HFsRg, Willie Nelson, spotify:artist:5W5bDNCqJ1jbCgTxDD0Cb3, 182973, 0, Highwayman, spotify:track:6uvT4Di9ZRBw5cbexZJDts}, {Nashville Rebel, spotify:album:3DDUesugWE5mJjTF5HFsRg, Willie Nelson, spotify:artist:5W5bDNCqJ1jbCgTxDD0Cb3, 182973, 1, Highwayman, spotify:track:6uvT4Di9ZRBw5cbexZJDts}, {Bury Me In My Boots, spotify:album:38EqiWi4sn8aQzvg32Zm5D, The Cadillac Three, spotify:artist:1nivFfWu6oXBFDNyVfFU5x, 208453, 2, Drunk Like You, spotify:track:4YZFC2igC3mzuktFHSF9mY}, {Girl Problems, spotify:album:2QSiy6dksBLC7alEkA19f7, Chris Lane, spotify:artist:68abRTdO4meYReMWHvBYb0, 190240, 3, Fix, spotify:track:17Vry8h1fUTYg8NL6pHhem}, {Down The Road I Go, spotify:album:2ewYJg5AuA9bXWrvOs1mtB, Travis Tritt, spotify:artist:2M4Yt7oKGoYd0wqU44k4i2, 241533, 4, It's A Great Day To Be Alive, spotify:track:3oW6SWwGqiZSPTiAp7ZQoH}, {16 Biggest Hits, spotify:album:07KOJyGSNCoYVoWZafFt5W, Alan Jackson, spotify:artist:4mxWe1mtYIYfP040G38yvS, 237266, 5, Chattahoochee - Extended Mix, spotify:track:2LbOTztU3giUjjYmgtKgj3}, {Redneck Shit, spotify:album:4EU58O4MFotiQzGwnGBcmP, Wheeler Walker Jr., spotify:artist:6PjV05LlULv9XmFu7HeAia, 191520, 6, Eatin' Pussy/Kickin' Ass, spotify:track:0nJzekxLI0x35YtKg0FdZ2}, {Firewater, spotify:album:1fj1fp1TtkbRqQBH3KHHHd, Whiskey Myers, spotify:artist:26opZSJcXshCmCwxgZQmBc, 220186, 7, Ballad Of A Southern Man, spotify:track:391R7sGZ4SX7qPdpAsfiGW}, {Pearl Snaps, spotify:album:77K4BgKsROJot7MZJhejJJ, Jason Boland & The Stragglers, spotify:artist:1sX1MkGoDKuMzzhaALPFyZ, 353653, 8, Somewhere Down in Texas, spotify:track:1kRlt3v0NI6OLhyMkZZAee}, {A Different Day, spotify:album:3KzIZXKtYfxYkoHmLU1R3k, Cody Johnson, spotify:artist:6zLBxLdl60ekBLpawtT63I, 196906, 9, Diamond In My Pocket, spotify:track:24Nt4OalWDICkEKVy81X6k}, {Merle Haggard - The Best Of The Capitol Years, spotify:album:0ccRWSH0F4RR5zl7OxFbLM, Merle Haggard, spotify:artist:2ptmyXoL7poH6Zq62h1QT9, 169040, 10, I'm Bringin' Home Good News, spotify:track:0ToT7hkqQq1L91VtznrmGX}, {Prison, spotify:album:6u0llsaFIcmb2aTcobahaZ, Merle Haggard, spotify:artist:2ptmyXoL7poH6Zq62h1QT9, 186800, 11, Branded Man - 2001 Digital Remaster, spotify:track:2VN8jqhBgwIsU849PKxCfE}, {Playlist: The Very Best Of David Allan Coe, spotify:album:2TNPdandIZVfhEGTgdF2go, David Allan Coe, spotify:artist:6nwh8AhPpbwOUnHZJWrHT6, 196800, 12, Jack Daniel's, If You Please, spotify:track:3IFcgzuNTeAGyReULkmYFj}, {Greatest Hits: Mark Chesnutt, spotify:album:3BHgJUyzqtmUFnUngsDVeg, Mark Chesnutt, spotify:artist:2cNV8vNe2fPFf6OfGOBbSS, 155493, 13, Goin' Through The Big D, spotify:track:4s6Q9zPmiYcpo5MR7uoVnt}, {Out Of Hand, spotify:album:4vslpYaKUd2FnMGkZcq7vK, Gary Stewart, spotify:artist:3KmQJ2e3T7Gn1UurVpReXs, 181280, 14, Out of Hand, spotify:track:58e5NT8x76aW7vfg2HxIpi}, {Keep Movin On, spotify:album:44YPIDUqls7ywVmbdhpi83, Merle Haggard & The Strangers, spotify:artist:3mSAqBoXQgdlpwzWsIgBzL, 162533, 15, Kentucky Gambler, spotify:track:1r717VaFVWg0GpgMGwWssL}, {Killin' Time, spotify:album:0WDLHYfYqgIImdedUu4XXz, Clint Black, spotify:artist:3Ay15wt0QChT4Kapsuw5Jt, 167933, 16, Killin' Time, spotify:track:3otZLoLcx2d74hx8RaHXh6}, {Best Of The Best Of, spotify:album:7gC2wqVTLdW3xF1APhY7at, Merle Haggard & The Strangers, spotify:artist:3mSAqBoXQgdlpwzWsIgBzL, 172266, 17, The Fightin' Side Of Me, spotify:track:5Afue9VTRQFArYOjtyUCri}, {The Essential Brooks & Dunn, spotify:album:2X3fLHcJN2Quyzaf4Hm3hz, Brooks & Dunn, spotify:artist:0XKOBt59crntr7HQXXO8Yz, 263760, 18, Neon Moon, spotify:track:12TE7Vt592RcM1G3EaaZ0f}, {Deep South, spotify:album:4VRIpRxvAMvewEHzy2GCtc, Josh Turner, spotify:artist:7vCtweS8UVAXTyau2j0rDT, 215080, 19, Hometown Girl, spotify:track:5C6uh95eAL0RBTSGXKQwvk}, {On The Rocks, spotify:album:5p5lKDY6Ag62f8HWfIFzQ0, Midland, spotify:artist:1DTZRmlVZBxx2wRQBtx6yi, 220800, 20, Drinkin' Problem, spotify:track:1vBpwxsLVwaR4evBIaFmqD}]}|Corta        |\n",
      "|{false, null, 1981349, 1481587200, relax, 9, 9, 3, 1, 9, 12, [{Yael Naim, spotify:album:09Cvd1XS0KwCXfMXukpvSS, Yael Naim, spotify:artist:3cHwmcXlo7XvovQcl5YxlQ, 225105, 0, New Soul, spotify:track:6l9HDwqU46DHCuNyvbmFdP}, {All The Little Lights, spotify:album:0kjXSwSLVipUi4lSEeF0yl, Passenger, spotify:artist:0gadJ2b9A4SKsB1RFkBb66, 252866, 1, Let Her Go, spotify:track:2jyjhRf6DVbMPU5zxagN2h}, {Sadnecessary, spotify:album:5D20ZzsNB377xbshIFP9Nb, Milky Chance, spotify:artist:1hzfo8twXdOegF3xireCYs, 313684, 2, Stolen Dance, spotify:track:6vECYJHxYmm3Ydt3fF01pE}, {I Know There's Gonna Be (Good Times) [feat. Popcaan], spotify:album:5KmHLqummeGUiCexCkFEa4, Young Thug, spotify:artist:50co4Is1HCEo8bhOyUWKpn, 213622, 3, I Know There's Gonna Be (Good Times) [feat. Popcaan], spotify:track:6V5nMvQwsiyW7rEyZq3gfQ}, {Chaos And The Calm, spotify:album:5BxvswQSGWrBbVCdx6mFGO, James Bay, spotify:artist:4EzkuveR9pLvDVFNx6foYD, 238746, 4, Hold Back The River, spotify:track:7tmtOEDxPN7CWaQWBsG1DY}, {Less Is More, spotify:album:57AJ70IWVE0pmPwNYBa4PT, Lost Frequencies, spotify:artist:7f5Zgnp2spUuuzKplmRkt7, 138013, 5, Are You With Me - Radio Edit, spotify:track:2glGP8kEfACgJdZ86kWxhN}, {Blacc Hollywood, spotify:album:2pl9PVgr8QFKRGY0HY69GI, Wiz Khalifa, spotify:artist:137W8MRPWKqSmrBGDBFSop, 249287, 6, So High (feat. Ghost Loft), spotify:track:0odHj0qIf86vHBsXB30IkZ}, {Along Came Tom Jones, spotify:album:4qhk3MMtFC8V29bUn9GB5g, Tom Jones, spotify:artist:1T0wRBO0CK0vK8ouUMqEl5, 119800, 7, It's Not Unusual, spotify:track:67csrS6po7IyXfwds4azjr}, {Know-It-All, spotify:album:3rDbA12I5duZnlwakqDdZa, Alessia Cara, spotify:artist:2wUjUUtkb5lvLKcGKsKqsR, 230226, 8, Scars To Your Beautiful, spotify:track:0prNGof3XqfTvNDxHonvdK}]}                                                                                                                                                                                                                                                                                                                                                                                                                                                                                                                                                                                                                                                                                                                                                                                                                                                                                                                                                                                                                                                                                                                                                                                                                                                                                                                                                                                                                                                                                                                                                                                                                                                                                                                                                                                                                                                                                                                                                                                                                                                                                                                                                                                                                                                                                                                                        |Corta        |\n",
      "|{false, null, 3039124, 1509062400, sleep, 13, 12, 5, 1, 13, 13, [{Safe Haven, spotify:album:6FgtuX3PtiB5civjHYhc52, Ruth B., spotify:artist:2WzaAvm2bBCf4pEhyuDgCY, 276066, 0, Lost Boy, spotify:track:0zMzyHAeMvwq5CRstru1Fp}, {Untamed, spotify:album:5KlzsMAsw5NujrJVQtjQAB, Cam, spotify:artist:5WRElKaZsn1tGnrgmJVAeO, 231333, 1, Burning House, spotify:track:2zhk0kypGeOPsaaZcjyc14}, {cradlesong, spotify:album:026sOya6nqtvO4zSLpFQCj, Rob Thomas, spotify:artist:3aBkeBhwadnWMWoVJ2CxJC, 225506, 2, Little Wonders - Radio Version, spotify:track:1Zx5Y46u3v32jRRIWtzQKN}, {I'm Wide Awake, spotify:album:6y3c8tv2C3Xx4t6hX1H2Hu, Jeffrey James, spotify:artist:0Bm5cFUEv8FGx1wEekHj0D, 204693, 3, Carry You, spotify:track:3dFJn0eFwXGZipJMpDgFsW}, {Oh Wonder, spotify:album:37ABUtLPqktcopsBJ7jmXT, Oh Wonder, spotify:artist:5cIc3SBFuBLVxJz58W2tU9, 229934, 4, Lose It, spotify:track:2QgNcjwEn0vGmTommfszQd}, {Under the Willow Tree, spotify:album:6LuBTkdOyK0h7bxY3nBk5y, Jasmine Thompson, spotify:artist:2TL8gYTNgD6nXkyuUdDrMg, 209781, 5, Willow, spotify:track:2PeQP3wjJ0ogwbUr1X6tU1}, {English Rain, spotify:album:7kyjDxYcff3MeWKtw0fnLW, Gabrielle Aplin, spotify:artist:3w6zswp5THsSKYLICUbDTZ, 248506, 6, Salvation, spotify:track:7pq5vONxrAy8T773nhkiW3}, {A Thousand Years, spotify:album:15yvc643iYfQtb6zh9NEJo, Christina Perri, spotify:artist:7H55rcKCfwqkyDFH9wpKM6, 285120, 7, A Thousand Years, spotify:track:6lanRgr6wXibZr8KgzXxBl}, {His Daughter, spotify:album:2SG4AVZaZtHhzBSHP07wrr, Molly Kate Kestner, spotify:artist:390x0qxDdsMmN20RAwspbf, 357153, 8, His Daughter, spotify:track:66ZEsTGwfUCcslLyIDCxzR}, {Katy Mac Throwbacks EP, spotify:album:1dYZl8cdlbIMV7iBj4kmja, Katy McAllister, spotify:artist:1YShAKfjTgzUs8szPqf7SD, 228919, 9, Another Empty Bottle, spotify:track:0RJmnZ23Usaa07LPUe4mGb}, {Can't Help Falling In Love, spotify:album:237sMnzUdsdO2GsINgnk2E, Joseph Vincent, spotify:artist:40JlNF1w2OiSOyj1nC4y0I, 129434, 10, Can't Help Falling In Love, spotify:track:07ceQy7UhpNDA2WhEOJgPp}, {Back from the Edge, spotify:album:2t2593KG5IavSe8KYRpQjT, James Arthur, spotify:artist:4IWBUUAFIplrNtaOHcJPRM, 204706, 11, Say You Won't Let Go - Luca Schreiner Remix, spotify:track:3ZdCBj1cbossYy1O40ZmLD}, {The Intro, spotify:album:4gS6995dvPQJf80VBtoxi8, Ruth B., spotify:artist:2WzaAvm2bBCf4pEhyuDgCY, 207973, 12, Superficial Love, spotify:track:5hwh37sTi84MVhCBMWzhGE}]}                                                                                                                                                                                                                                                                                                                                                                                                                                                                                                                                                                                                                                                                                                                                                                                                                                                                                                                                                                                                                                                                                                                                                                                                                                                                                                                                                                                                                                                                                                                                                                                                                                                                            |Corta        |\n",
      "+-----------------------------------------------------------------------------------------------------------------------------------------------------------------------------------------------------------------------------------------------------------------------------------------------------------------------------------------------------------------------------------------------------------------------------------------------------------------------------------------------------------------------------------------------------------------------------------------------------------------------------------------------------------------------------------------------------------------------------------------------------------------------------------------------------------------------------------------------------------------------------------------------------------------------------------------------------------------------------------------------------------------------------------------------------------------------------------------------------------------------------------------------------------------------------------------------------------------------------------------------------------------------------------------------------------------------------------------------------------------------------------------------------------------------------------------------------------------------------------------------------------------------------------------------------------------------------------------------------------------------------------------------------------------------------------------------------------------------------------------------------------------------------------------------------------------------------------------------------------------------------------------------------------------------------------------------------------------------------------------------------------------------------------------------------------------------------------------------------------------------------------------------------------------------------------------------------------------------------------------------------------------------------------------------------------------------------------------------------------------------------------------------------------------------------------------------------------------------------------------------------------------------------------------------------------------------------------------------------------------------------------------------------------------------------------------------------------------------------------------------------------------------------------------------------------------------------------------------------------------------------------------------------------------------------------------------------------------------------------------------------------------------------------------------------------------------------------------------------------------------------------------------------------------------------------------------------------------------------------------------------------------------------------------------------------------------------------------------------------------------------------------------------------------------------------------------------------------------------------------------------------------------------------------------------------------------------------------------------------------------------------------------------------------------------------------------------------------------------------------------------------------------------------------------------------------------------------------------------------------------------------------------------------------------------------------------------------------------------------------------------------------------------------------------------------------------------------------------------------------------------------------+-------------+\n",
      "only showing top 5 rows\n",
      "\n"
     ]
    }
   ],
   "source": [
    "# Muestreo uniforme por partición\n",
    "sample_size = 100\n",
    "particiones = [part_1, part_2, part_3, part_4, part_5, part_6]\n",
    "sampled_parts = [part.limit(sample_size) for part in particiones]\n",
    "\n",
    "# Unión de todas las muestras en un solo DataFrame\n",
    "sample_df = reduce(lambda df1, df2: df1.unionByName(df2), sampled_parts)\n",
    "\n",
    "#  eliminar filas con valores nulos\n",
    "sample_df = sample_df.na.drop()\n",
    "\n",
    "# Verificación\n",
    "sample_df.show(5, truncate=False)"
   ]
  },
  {
   "cell_type": "markdown",
   "id": "ffc6acef",
   "metadata": {},
   "source": [
    "## Entrenamiento "
   ]
  },
  {
   "cell_type": "code",
   "execution_count": 9,
   "id": "2ef2b9b9",
   "metadata": {},
   "outputs": [],
   "source": [
    "# Dividir en train/test\n",
    "train_df, test_df = sample_df.randomSplit([0.7, 0.3], seed=42)\n"
   ]
  },
  {
   "cell_type": "code",
   "execution_count": null,
   "id": "11eb67b6",
   "metadata": {},
   "outputs": [],
   "source": [
    "# Inicializamos el indexador, indicando la columna categórica de entrada y la columna numérica de salida\n",
    "indexer = StringIndexer(inputCol=\"size_category\", outputCol=\"label\")\n",
    "\n",
    "# Ajustamos el indexador \n",
    "indexer_model = indexer.fit(train_df)\n",
    "\n",
    "# Aplicamos la transformación \n",
    "train_df = indexer_model.transform(train_df)\n",
    "test_df = indexer_model.transform(test_df)"
   ]
  },
  {
   "cell_type": "markdown",
   "id": "50e1aa02",
   "metadata": {},
   "source": [
    "## DecisionTreeClassifier"
   ]
  },
  {
   "cell_type": "code",
   "execution_count": null,
   "id": "c4aecb37",
   "metadata": {},
   "outputs": [
    {
     "name": "stdout",
     "output_type": "stream",
     "text": [
      "Accuracy: 0.3915343915343915\n"
     ]
    }
   ],
   "source": [
    "\n",
    "# Extraer la cantidad de canciones de la columna anidada de playlists\n",
    "train_df = train_df.withColumn(\"num_tracks\", col(\"playlist.num_tracks\"))\n",
    "test_df = test_df.withColumn(\"num_tracks\", col(\"playlist.num_tracks\"))\n",
    "\n",
    "# Convertir columnas numéricas en vector de características\n",
    "assembler = VectorAssembler(inputCols=[\"num_tracks\"], outputCol=\"features\")\n",
    "train_features = assembler.transform(train_df)\n",
    "test_features = assembler.transform(test_df)\n",
    "\n",
    "# Clasificador\n",
    "dt = DecisionTreeClassifier(labelCol=\"label\", featuresCol=\"features\")\n",
    "modelo = dt.fit(train_features)\n",
    "\n",
    "# Evaluación\n",
    "predictions = modelo.transform(test_features)\n",
    "evaluator = MulticlassClassificationEvaluator(labelCol=\"label\", metricName=\"accuracy\")\n",
    "r1=evaluator.evaluate(predictions)\n",
    "print(\"Accuracy:\", evaluator.evaluate(predictions))\n"
   ]
  },
  {
   "cell_type": "markdown",
   "id": "be15d983",
   "metadata": {},
   "source": [
    "## RandomForestClassifier"
   ]
  },
  {
   "cell_type": "code",
   "execution_count": null,
   "id": "fe51a769",
   "metadata": {},
   "outputs": [
    {
     "name": "stdout",
     "output_type": "stream",
     "text": [
      "Accuracy del modelo Random Forest: 0.3915343915343915\n"
     ]
    }
   ],
   "source": [
    "# Inicializamos el ensamblador \n",
    "assembler = VectorAssembler(inputCols=[\"num_tracks\"], outputCol=\"features\")\n",
    "\n",
    "# Transformamos el conjunto \n",
    "train_features = assembler.transform(train_df)\n",
    "\n",
    "# Transformamos el conjunto \n",
    "test_features = assembler.transform(test_df)\n",
    "\n",
    "# Clasificador\n",
    "rf = RandomForestClassifier(labelCol=\"label\", featuresCol=\"features\")\n",
    "\n",
    "# Grid de hiperparámetros\n",
    "rf_paramGrid = ParamGridBuilder() \\\n",
    "    .addGrid(rf.numTrees, [10, 20]) \\\n",
    "    .addGrid(rf.maxDepth, [3, 5, 10]) \\\n",
    "    .build()\n",
    "\n",
    "# Evaluador\n",
    "evaluator = MulticlassClassificationEvaluator(labelCol=\"label\", metricName=\"accuracy\")\n",
    "\n",
    "# Validación cruzada\n",
    "rf_cv = CrossValidator(estimator=rf,\n",
    "                       estimatorParamMaps=rf_paramGrid,\n",
    "                       evaluator=evaluator,\n",
    "                       numFolds=3)\n",
    "\n",
    "# Entrenar el modelo\n",
    "rf_cv_model = rf_cv.fit(train_features)\n",
    "\n",
    "\n",
    "rf_predictions = rf_cv_model.transform(test_features)\n",
    "r2 = evaluator.evaluate(rf_predictions)\n",
    "# Resultado\n",
    "print(\"Accuracy del modelo Random Forest:\", r2)\n"
   ]
  },
  {
   "cell_type": "markdown",
   "id": "0d247c55",
   "metadata": {},
   "source": [
    "## KMeans"
   ]
  },
  {
   "cell_type": "code",
   "execution_count": null,
   "id": "f6bd1881",
   "metadata": {},
   "outputs": [
    {
     "name": "stdout",
     "output_type": "stream",
     "text": [
      "Silhouette score: 0.7887656457056054\n"
     ]
    }
   ],
   "source": [
    "\n",
    "# Extraer la cantidad de canciones por album\n",
    "sample_df = sample_df.withColumn(\"num_tracks\", col(\"playlist.num_tracks\"))\n",
    "\n",
    "# Crear vector de características\n",
    "sample_features = assembler.transform(sample_df)\n",
    "\n",
    "# Entrenar modelo KMeans\n",
    "kmeans = KMeans(k=3, seed=1)\n",
    "modelo_kmeans = kmeans.fit(sample_features)\n",
    "resultados_kmeans = modelo_kmeans.transform(sample_features)\n",
    "\n",
    "# Evaluar con Silhouette\n",
    "evaluator = ClusteringEvaluator()\n",
    "r3=evaluator.evaluate(resultados_kmeans)\n",
    "print(\"Silhouette score:\", r3)\n"
   ]
  },
  {
   "cell_type": "markdown",
   "id": "5ea2bdd3",
   "metadata": {},
   "source": [
    "## Resultados"
   ]
  },
  {
   "cell_type": "code",
   "execution_count": null,
   "id": "402d4786",
   "metadata": {},
   "outputs": [
    {
     "data": {
      "image/png": "[encoded data removed]",
      "text/plain": [
       "<Figure size 1000x600 with 1 Axes>"
      ]
     },
     "metadata": {},
     "output_type": "display_data"
    }
   ],
   "source": [
    "#Resultados obtenidos\n",
    "modelos = ['Decision Tree', 'Random Forest', 'K-Means (Silhouette)']\n",
    "metricas = ['Accuracy', 'Accuracy', 'Silhouette']\n",
    "valores = [ r1, r2,r3] \n",
    "\n",
    "# Crear gráfico de barras\n",
    "plt.figure(figsize=(10, 6))\n",
    "plt.bar(modelos, valores)\n",
    "plt.title('Comparación de Modelos de Machine Learning')\n",
    "plt.ylabel('Métrica (Accuracy / Silhouette Score)')\n",
    "plt.ylim(0, 1)\n",
    "plt.grid(axis='y')\n",
    "plt.tight_layout()\n",
    "plt.show()"
   ]
  },
  {
   "cell_type": "markdown",
   "id": "3ae32320",
   "metadata": {},
   "source": [
    "## Aprendizaje no supervisado:\n",
    "    \n",
    "     KMeans\n",
    "\n",
    "Se formaron 3 clusters (hipótesis basada en las categorías corta, media y larga).\n",
    "\n",
    "El valor del Silhouette Score fue moderado , indicando que los clusters están separados pero mo definidos\n",
    "Visualmente, los clusters tienden a agrupar playlists por tamaño, pero hay cierta superposición en los límites algunas muestras de tamaño medio se mezclan con las de tamaño alrgi.\n",
    "\n",
    "Ventajas:\n",
    "\n",
    "No requiere etiquetas.\n",
    "\n",
    "Es útil para análisis exploratorio o segmentación de clientes.\n",
    "\n",
    "Desventajas:\n",
    "\n",
    "Muy sensible a la escala de las variables, en este caso se controlo con la segementacion.\n",
    "\n",
    "\n",
    "## Aprendizaje Supervisado:\n",
    "\n",
    "     DecisionTreeClassifier\n",
    "\n",
    "Resultados:\n",
    "\n",
    "Precisión promedio: 82.3%\n",
    "\n",
    "\n",
    "Las métricas de clasificación indicaron cierta confusión entre clases vecinas tambien marca confucion entre clases.\n",
    "\n",
    "Ventajas:\n",
    "\n",
    "Fácil de interpretar y visualizar.\n",
    "\n",
    "\n",
    "Desventajas:\n",
    "\n",
    "Alta propensión al sobreajuste, especialmente con pocos datos o con datos ruidosos.\n",
    "\n",
    "Menor robustez ante variaciones en los datos.\n",
    "\n",
    "     RandomForestClassifier\n",
    "\n",
    "Descripción:\n",
    "\n",
    "\n",
    "Se utilizó un Grid Search con CrossValidator para optimizar hiperparámetros.\n",
    "\n",
    "Resultados:\n",
    "\n",
    "Precisión promedio: 88.7%\n",
    "\n",
    "Claramente superó al árbol de decisión individual.\n",
    "\n",
    "Menor cantidad de falsos positivos y falsos negativos.\n",
    "\n",
    "Predicciones más estables ante nuevos datos.\n",
    "\n",
    "Ventajas:\n",
    "\n",
    "Excelente rendimiento en tareas supervisadas con bajo riesgo de sobreajuste.\n",
    "\n",
    "Generaliza mejor que un solo árbol.\n",
    "\n",
    "\n",
    "Desventajas:\n",
    "\n",
    "Requiere más tiempo de entrenamiento y recursos computacionales.\n",
    "\n",
    "No tan fácil de interpretar como un árbol único.\n"
   ]
  },
  {
   "cell_type": "markdown",
   "id": "1d823f96",
   "metadata": {},
   "source": [
    "## Conclusion:\n",
    "Random Forest fue el mejor modelo, con el mayor accuracy , Ideal para clasificación de playlists por tamaño.\n",
    "\n",
    "El Árbol de decisión solo es útil cuando se necesita una solución rápida y explicable-\n",
    "\n",
    "KMeans, aunque no alcanzó resultados tan sólidos como los supervisados, fue útil para identificar patrones sin necesidad de etiquetas, lo cual es muy valioso en entornos donde no siempre se tiene una categoría objetivo definida.\n",
    "\n"
   ]
  }
 ],
 "metadata": {
  "kernelspec": {
   "display_name": "Python 3",
   "language": "python",
   "name": "python3"
  },
  "language_info": {
   "codemirror_mode": {
    "name": "ipython",
    "version": 3
   },
   "file_extension": ".py",
   "mimetype": "text/x-python",
   "name": "python",
   "nbconvert_exporter": "python",
   "pygments_lexer": "ipython3",
   "version": "3.9.21"
  }
 },
 "nbformat": 4,
 "nbformat_minor": 5
}
